{
  "nbformat": 4,
  "nbformat_minor": 0,
  "metadata": {
    "colab": {
      "name": "Lung Segmentation.ipynb",
      "provenance": [],
      "collapsed_sections": [],
      "include_colab_link": true
    },
    "kernelspec": {
      "name": "python3",
      "display_name": "Python 3"
    },
    "accelerator": "GPU",
    "widgets": {
      "application/vnd.jupyter.widget-state+json": {
        "87d2fca20db34ca7b5c95cfb3708bf27": {
          "model_module": "@jupyter-widgets/controls",
          "model_name": "VBoxModel",
          "state": {
            "_view_name": "VBoxView",
            "_dom_classes": [
              "widget-interact"
            ],
            "_model_name": "VBoxModel",
            "_view_module": "@jupyter-widgets/controls",
            "_model_module_version": "1.5.0",
            "_view_count": null,
            "_view_module_version": "1.5.0",
            "box_style": "",
            "layout": "IPY_MODEL_b288d8cf958f4f66becdc5a1eddb3392",
            "_model_module": "@jupyter-widgets/controls",
            "children": [
              "IPY_MODEL_90d72b11fdf14155a0ec0a2e8c28332e",
              "IPY_MODEL_433acd92425546a6849b00b680918dd8"
            ]
          }
        },
        "b288d8cf958f4f66becdc5a1eddb3392": {
          "model_module": "@jupyter-widgets/base",
          "model_name": "LayoutModel",
          "state": {
            "_view_name": "LayoutView",
            "grid_template_rows": null,
            "right": null,
            "justify_content": null,
            "_view_module": "@jupyter-widgets/base",
            "overflow": null,
            "_model_module_version": "1.2.0",
            "_view_count": null,
            "flex_flow": null,
            "width": null,
            "min_width": null,
            "border": null,
            "align_items": null,
            "bottom": null,
            "_model_module": "@jupyter-widgets/base",
            "top": null,
            "grid_column": null,
            "overflow_y": null,
            "overflow_x": null,
            "grid_auto_flow": null,
            "grid_area": null,
            "grid_template_columns": null,
            "flex": null,
            "_model_name": "LayoutModel",
            "justify_items": null,
            "grid_row": null,
            "max_height": null,
            "align_content": null,
            "visibility": null,
            "align_self": null,
            "height": null,
            "min_height": null,
            "padding": null,
            "grid_auto_rows": null,
            "grid_gap": null,
            "max_width": null,
            "order": null,
            "_view_module_version": "1.2.0",
            "grid_template_areas": null,
            "object_position": null,
            "object_fit": null,
            "grid_auto_columns": null,
            "margin": null,
            "display": null,
            "left": null
          }
        },
        "90d72b11fdf14155a0ec0a2e8c28332e": {
          "model_module": "@jupyter-widgets/controls",
          "model_name": "IntSliderModel",
          "state": {
            "_view_name": "IntSliderView",
            "style": "IPY_MODEL_23ff182e10d84aa8a13d58bab73ea14d",
            "_dom_classes": [],
            "description": "epoch",
            "step": 1,
            "_model_name": "IntSliderModel",
            "orientation": "horizontal",
            "max": 39,
            "_view_module": "@jupyter-widgets/controls",
            "_model_module_version": "1.5.0",
            "value": 19,
            "_view_count": null,
            "disabled": false,
            "_view_module_version": "1.5.0",
            "min": 0,
            "continuous_update": true,
            "readout_format": "d",
            "description_tooltip": null,
            "readout": true,
            "_model_module": "@jupyter-widgets/controls",
            "layout": "IPY_MODEL_4ac8ca955c1444e990998237b19dc74f"
          }
        },
        "433acd92425546a6849b00b680918dd8": {
          "model_module": "@jupyter-widgets/output",
          "model_name": "OutputModel",
          "state": {
            "_view_name": "OutputView",
            "msg_id": "",
            "_dom_classes": [],
            "_model_name": "OutputModel",
            "outputs": [
              {
                "output_type": "display_data",
                "metadata": {
                  "tags": [],
                  "needs_background": "light"
                },
                "image/png": "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\n",
                "text/plain": "<Figure size 432x288 with 1 Axes>"
              }
            ],
            "_view_module": "@jupyter-widgets/output",
            "_model_module_version": "1.0.0",
            "_view_count": null,
            "_view_module_version": "1.0.0",
            "layout": "IPY_MODEL_f6087a99376b4eefb7e30688da4fc210",
            "_model_module": "@jupyter-widgets/output"
          }
        },
        "23ff182e10d84aa8a13d58bab73ea14d": {
          "model_module": "@jupyter-widgets/controls",
          "model_name": "SliderStyleModel",
          "state": {
            "_view_name": "StyleView",
            "handle_color": null,
            "_model_name": "SliderStyleModel",
            "description_width": "",
            "_view_module": "@jupyter-widgets/base",
            "_model_module_version": "1.5.0",
            "_view_count": null,
            "_view_module_version": "1.2.0",
            "_model_module": "@jupyter-widgets/controls"
          }
        },
        "4ac8ca955c1444e990998237b19dc74f": {
          "model_module": "@jupyter-widgets/base",
          "model_name": "LayoutModel",
          "state": {
            "_view_name": "LayoutView",
            "grid_template_rows": null,
            "right": null,
            "justify_content": null,
            "_view_module": "@jupyter-widgets/base",
            "overflow": null,
            "_model_module_version": "1.2.0",
            "_view_count": null,
            "flex_flow": null,
            "width": null,
            "min_width": null,
            "border": null,
            "align_items": null,
            "bottom": null,
            "_model_module": "@jupyter-widgets/base",
            "top": null,
            "grid_column": null,
            "overflow_y": null,
            "overflow_x": null,
            "grid_auto_flow": null,
            "grid_area": null,
            "grid_template_columns": null,
            "flex": null,
            "_model_name": "LayoutModel",
            "justify_items": null,
            "grid_row": null,
            "max_height": null,
            "align_content": null,
            "visibility": null,
            "align_self": null,
            "height": null,
            "min_height": null,
            "padding": null,
            "grid_auto_rows": null,
            "grid_gap": null,
            "max_width": null,
            "order": null,
            "_view_module_version": "1.2.0",
            "grid_template_areas": null,
            "object_position": null,
            "object_fit": null,
            "grid_auto_columns": null,
            "margin": null,
            "display": null,
            "left": null
          }
        },
        "f6087a99376b4eefb7e30688da4fc210": {
          "model_module": "@jupyter-widgets/base",
          "model_name": "LayoutModel",
          "state": {
            "_view_name": "LayoutView",
            "grid_template_rows": null,
            "right": null,
            "justify_content": null,
            "_view_module": "@jupyter-widgets/base",
            "overflow": null,
            "_model_module_version": "1.2.0",
            "_view_count": null,
            "flex_flow": null,
            "width": null,
            "min_width": null,
            "border": null,
            "align_items": null,
            "bottom": null,
            "_model_module": "@jupyter-widgets/base",
            "top": null,
            "grid_column": null,
            "overflow_y": null,
            "overflow_x": null,
            "grid_auto_flow": null,
            "grid_area": null,
            "grid_template_columns": null,
            "flex": null,
            "_model_name": "LayoutModel",
            "justify_items": null,
            "grid_row": null,
            "max_height": null,
            "align_content": null,
            "visibility": null,
            "align_self": null,
            "height": null,
            "min_height": null,
            "padding": null,
            "grid_auto_rows": null,
            "grid_gap": null,
            "max_width": null,
            "order": null,
            "_view_module_version": "1.2.0",
            "grid_template_areas": null,
            "object_position": null,
            "object_fit": null,
            "grid_auto_columns": null,
            "margin": null,
            "display": null,
            "left": null
          }
        },
        "3c0f9edc3a91432cab8faf2f12030982": {
          "model_module": "@jupyter-widgets/controls",
          "model_name": "VBoxModel",
          "state": {
            "_view_name": "VBoxView",
            "_dom_classes": [
              "widget-interact"
            ],
            "_model_name": "VBoxModel",
            "_view_module": "@jupyter-widgets/controls",
            "_model_module_version": "1.5.0",
            "_view_count": null,
            "_view_module_version": "1.5.0",
            "box_style": "",
            "layout": "IPY_MODEL_32ba8dccbb534a1686a171dd06810584",
            "_model_module": "@jupyter-widgets/controls",
            "children": [
              "IPY_MODEL_ab7e3729c1a24f43bc15f8fc7c5f705d",
              "IPY_MODEL_e0b6d83e75b14838a7498d4ff31db8ba"
            ]
          }
        },
        "32ba8dccbb534a1686a171dd06810584": {
          "model_module": "@jupyter-widgets/base",
          "model_name": "LayoutModel",
          "state": {
            "_view_name": "LayoutView",
            "grid_template_rows": null,
            "right": null,
            "justify_content": null,
            "_view_module": "@jupyter-widgets/base",
            "overflow": null,
            "_model_module_version": "1.2.0",
            "_view_count": null,
            "flex_flow": null,
            "width": null,
            "min_width": null,
            "border": null,
            "align_items": null,
            "bottom": null,
            "_model_module": "@jupyter-widgets/base",
            "top": null,
            "grid_column": null,
            "overflow_y": null,
            "overflow_x": null,
            "grid_auto_flow": null,
            "grid_area": null,
            "grid_template_columns": null,
            "flex": null,
            "_model_name": "LayoutModel",
            "justify_items": null,
            "grid_row": null,
            "max_height": null,
            "align_content": null,
            "visibility": null,
            "align_self": null,
            "height": null,
            "min_height": null,
            "padding": null,
            "grid_auto_rows": null,
            "grid_gap": null,
            "max_width": null,
            "order": null,
            "_view_module_version": "1.2.0",
            "grid_template_areas": null,
            "object_position": null,
            "object_fit": null,
            "grid_auto_columns": null,
            "margin": null,
            "display": null,
            "left": null
          }
        },
        "ab7e3729c1a24f43bc15f8fc7c5f705d": {
          "model_module": "@jupyter-widgets/controls",
          "model_name": "IntSliderModel",
          "state": {
            "_view_name": "IntSliderView",
            "style": "IPY_MODEL_c880b692314346daa6118110dfaae77d",
            "_dom_classes": [],
            "description": "epoch",
            "step": 1,
            "_model_name": "IntSliderModel",
            "orientation": "horizontal",
            "max": 39,
            "_view_module": "@jupyter-widgets/controls",
            "_model_module_version": "1.5.0",
            "value": 19,
            "_view_count": null,
            "disabled": false,
            "_view_module_version": "1.5.0",
            "min": 0,
            "continuous_update": true,
            "readout_format": "d",
            "description_tooltip": null,
            "readout": true,
            "_model_module": "@jupyter-widgets/controls",
            "layout": "IPY_MODEL_41e8414fc3eb4c58a084b7447af64cdb"
          }
        },
        "e0b6d83e75b14838a7498d4ff31db8ba": {
          "model_module": "@jupyter-widgets/output",
          "model_name": "OutputModel",
          "state": {
            "_view_name": "OutputView",
            "msg_id": "",
            "_dom_classes": [],
            "_model_name": "OutputModel",
            "outputs": [
              {
                "output_type": "display_data",
                "metadata": {
                  "tags": [],
                  "needs_background": "light"
                },
                "image/png": "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\n",
                "text/plain": "<Figure size 432x288 with 1 Axes>"
              }
            ],
            "_view_module": "@jupyter-widgets/output",
            "_model_module_version": "1.0.0",
            "_view_count": null,
            "_view_module_version": "1.0.0",
            "layout": "IPY_MODEL_f0361642ba85469d80fb9087bfb4f431",
            "_model_module": "@jupyter-widgets/output"
          }
        },
        "c880b692314346daa6118110dfaae77d": {
          "model_module": "@jupyter-widgets/controls",
          "model_name": "SliderStyleModel",
          "state": {
            "_view_name": "StyleView",
            "handle_color": null,
            "_model_name": "SliderStyleModel",
            "description_width": "",
            "_view_module": "@jupyter-widgets/base",
            "_model_module_version": "1.5.0",
            "_view_count": null,
            "_view_module_version": "1.2.0",
            "_model_module": "@jupyter-widgets/controls"
          }
        },
        "41e8414fc3eb4c58a084b7447af64cdb": {
          "model_module": "@jupyter-widgets/base",
          "model_name": "LayoutModel",
          "state": {
            "_view_name": "LayoutView",
            "grid_template_rows": null,
            "right": null,
            "justify_content": null,
            "_view_module": "@jupyter-widgets/base",
            "overflow": null,
            "_model_module_version": "1.2.0",
            "_view_count": null,
            "flex_flow": null,
            "width": null,
            "min_width": null,
            "border": null,
            "align_items": null,
            "bottom": null,
            "_model_module": "@jupyter-widgets/base",
            "top": null,
            "grid_column": null,
            "overflow_y": null,
            "overflow_x": null,
            "grid_auto_flow": null,
            "grid_area": null,
            "grid_template_columns": null,
            "flex": null,
            "_model_name": "LayoutModel",
            "justify_items": null,
            "grid_row": null,
            "max_height": null,
            "align_content": null,
            "visibility": null,
            "align_self": null,
            "height": null,
            "min_height": null,
            "padding": null,
            "grid_auto_rows": null,
            "grid_gap": null,
            "max_width": null,
            "order": null,
            "_view_module_version": "1.2.0",
            "grid_template_areas": null,
            "object_position": null,
            "object_fit": null,
            "grid_auto_columns": null,
            "margin": null,
            "display": null,
            "left": null
          }
        },
        "f0361642ba85469d80fb9087bfb4f431": {
          "model_module": "@jupyter-widgets/base",
          "model_name": "LayoutModel",
          "state": {
            "_view_name": "LayoutView",
            "grid_template_rows": null,
            "right": null,
            "justify_content": null,
            "_view_module": "@jupyter-widgets/base",
            "overflow": null,
            "_model_module_version": "1.2.0",
            "_view_count": null,
            "flex_flow": null,
            "width": null,
            "min_width": null,
            "border": null,
            "align_items": null,
            "bottom": null,
            "_model_module": "@jupyter-widgets/base",
            "top": null,
            "grid_column": null,
            "overflow_y": null,
            "overflow_x": null,
            "grid_auto_flow": null,
            "grid_area": null,
            "grid_template_columns": null,
            "flex": null,
            "_model_name": "LayoutModel",
            "justify_items": null,
            "grid_row": null,
            "max_height": null,
            "align_content": null,
            "visibility": null,
            "align_self": null,
            "height": null,
            "min_height": null,
            "padding": null,
            "grid_auto_rows": null,
            "grid_gap": null,
            "max_width": null,
            "order": null,
            "_view_module_version": "1.2.0",
            "grid_template_areas": null,
            "object_position": null,
            "object_fit": null,
            "grid_auto_columns": null,
            "margin": null,
            "display": null,
            "left": null
          }
        },
        "182da9555d984911977f519c24e0eacd": {
          "model_module": "@jupyter-widgets/controls",
          "model_name": "VBoxModel",
          "state": {
            "_view_name": "VBoxView",
            "_dom_classes": [
              "widget-interact"
            ],
            "_model_name": "VBoxModel",
            "_view_module": "@jupyter-widgets/controls",
            "_model_module_version": "1.5.0",
            "_view_count": null,
            "_view_module_version": "1.5.0",
            "box_style": "",
            "layout": "IPY_MODEL_92327da0041e4c25aee6f9dca4bae2b6",
            "_model_module": "@jupyter-widgets/controls",
            "children": [
              "IPY_MODEL_26e0fceeed1141b29a7245d5db670586",
              "IPY_MODEL_bd15f664238b48888db56886e7f711b7"
            ]
          }
        },
        "92327da0041e4c25aee6f9dca4bae2b6": {
          "model_module": "@jupyter-widgets/base",
          "model_name": "LayoutModel",
          "state": {
            "_view_name": "LayoutView",
            "grid_template_rows": null,
            "right": null,
            "justify_content": null,
            "_view_module": "@jupyter-widgets/base",
            "overflow": null,
            "_model_module_version": "1.2.0",
            "_view_count": null,
            "flex_flow": null,
            "width": null,
            "min_width": null,
            "border": null,
            "align_items": null,
            "bottom": null,
            "_model_module": "@jupyter-widgets/base",
            "top": null,
            "grid_column": null,
            "overflow_y": null,
            "overflow_x": null,
            "grid_auto_flow": null,
            "grid_area": null,
            "grid_template_columns": null,
            "flex": null,
            "_model_name": "LayoutModel",
            "justify_items": null,
            "grid_row": null,
            "max_height": null,
            "align_content": null,
            "visibility": null,
            "align_self": null,
            "height": null,
            "min_height": null,
            "padding": null,
            "grid_auto_rows": null,
            "grid_gap": null,
            "max_width": null,
            "order": null,
            "_view_module_version": "1.2.0",
            "grid_template_areas": null,
            "object_position": null,
            "object_fit": null,
            "grid_auto_columns": null,
            "margin": null,
            "display": null,
            "left": null
          }
        },
        "26e0fceeed1141b29a7245d5db670586": {
          "model_module": "@jupyter-widgets/controls",
          "model_name": "IntSliderModel",
          "state": {
            "_view_name": "IntSliderView",
            "style": "IPY_MODEL_a6b9eec0a7634d79a3d8ce5d963b24de",
            "_dom_classes": [],
            "description": "epoch",
            "step": 1,
            "_model_name": "IntSliderModel",
            "orientation": "horizontal",
            "max": 39,
            "_view_module": "@jupyter-widgets/controls",
            "_model_module_version": "1.5.0",
            "value": 39,
            "_view_count": null,
            "disabled": false,
            "_view_module_version": "1.5.0",
            "min": 0,
            "continuous_update": true,
            "readout_format": "d",
            "description_tooltip": null,
            "readout": true,
            "_model_module": "@jupyter-widgets/controls",
            "layout": "IPY_MODEL_c6917821b9a740adb12179952780f94b"
          }
        },
        "bd15f664238b48888db56886e7f711b7": {
          "model_module": "@jupyter-widgets/output",
          "model_name": "OutputModel",
          "state": {
            "_view_name": "OutputView",
            "msg_id": "",
            "_dom_classes": [],
            "_model_name": "OutputModel",
            "outputs": [
              {
                "output_type": "display_data",
                "metadata": {
                  "tags": [],
                  "needs_background": "light"
                },
                "image/png": "iVBORw0KGgoAAAANSUhEUgAAAW4AAAD8CAYAAABXe05zAAAABHNCSVQICAgIfAhkiAAAAAlwSFlzAAALEgAACxIB0t1+/AAAADh0RVh0U29mdHdhcmUAbWF0cGxvdGxpYiB2ZXJzaW9uMy4yLjIsIGh0dHA6Ly9tYXRwbG90bGliLm9yZy+WH4yJAAAgAElEQVR4nOydd3xV9f3/n+funT1JAlmMBASUIUgRarGuVkWroIJWW78Ovq3W/upo+y3WWq2ztX7l66qtE1dxUahIVZQhW4aQBDLI3rl73/P7A84xkZWQhCTyeT4eeST35IzPPffc13mf9+c9JFmWEQgEAsHQQTPQAxAIBAJBzxDCLRAIBEMMIdwCgUAwxBDCLRAIBEMMIdwCgUAwxBDCLRAIBEOMfhNuSZLOkySpRJKkfZIk3dVfxxEIBIJTDak/4rglSdICpcAcoAbYBMyXZfmrPj+YQCAQnGL0l8U9Bdgny3K5LMshYClwcT8dSyAQCE4pdP2032FAdafXNcDUo62cnJwsjxgxop+GIhAIBEOPyspKWlpapCP9r7+E+7hIknQjcCNATk4OmzdvHqihCAQCwaBj0qRJR/1ff7lKaoHsTq+zDi1TkWX5GVmWJ8myPCklJaWfhiEQCATfPvpLuDcBhZIk5UqSZADmAe/107EEAoHglKJfXCWyLEckSVoE/BvQAn+TZXl3fxxLIBAITjX6zccty/K/gH/11/4FAoHgVEVkTgoEAsEQQwi3QCAQDDGEcAsEAsEQQwi3QCAQDDGEcAsEAsEQQwi3QCAQDDGEcAsEAsEQQwi3QCAQDDGEcAsEAsEQQwi3QCAQDDGEcAsEAsEQQwi3QCAQDDGEcAsEAsEQQwi3QCAQDDGEcAsEAsEQQwi3QCAQDDGEcAsEAsEQQwi3QCAQDDGEcAsEAsEQQwi3QCAQDDGEcAsEAsEQQwi3QCAQDDGEcAsEAsEQQwi3QCAQDDGEcAsEAsEQQwi3QCAQDDGEcAsEAsEQQwi3QCAQDDGEcAsEAsEQQ9ebjSVJqgTcQBSIyLI8SZKkROB1YARQCVwhy3J774YpEAgEAoW+sLhny7I8QZblSYde3wWslmW5EFh96LVAIBAI+oj+cJVcDPzj0N//AC7ph2MIBALBKUtvhVsGPpQkaYskSTceWpYmy3L9ob8bgLQjbShJ0o2SJG2WJGlzc3NzL4chEAgEpw698nEDM2RZrpUkKRVYJUnS3s7/lGVZliRJPtKGsiw/AzwDMGnSpCOuIxAIBILD6ZXFLcty7aHfTcAyYArQKElSBsCh3029HaRAIBAIvuaEhVuSJKskSXblb+BcYBfwHnDtodWuBd7t7SAFAoFA8DW9cZWkAcskSVL286osyyslSdoEvCFJ0g1AFXBF74cpEAgEAoUTFm5ZlsuB8UdY3gqc05tBCQQCgeDoiMxJgUAgGGII4RYIBIIhhhBugUAgGGII4RYIBIIhhhBugUAgGGII4RYIBIIhhhBugUAgGGII4RYIBIIhhhBugUAgGGII4RYIBIIhhhBugUAgGGII4RYIBIIhhhBugUAgGGII4RYIBIIhhhDuQYgsy0SjUWRZdHQbzMRiMWKx2EAPY8CRZZlYLNbld1/tt7+/B3095pOFEO5BSGNjI9dffz0NDQ0DPRTBUZBlmeXLl/Ob3/xmoIcy4Kxdu5bf/OY3dHR08MILL7Bu3bojrudyuaitre32za6lpYWbb76ZioqKvhxuFyorK7n11luH3HdNCPcgRJZlAoGAsOYGOZFIhGAwONDD6DcUa/R4RKNRgsEgWq2WG264gbPOOuuI661du5bHH3+cUCjU7eMHg8F+/R7EYjGCweCQs7h72+Vd0I+sWrUKk8nElVdeSV1dHUuWLOG+++7j9ddfx+PxsHnzZsxmM7fddhs5OTns2bOHZ599FkmSSE5OZsqUKXz3u99FoxH3ZwWv18v9999PXFwcO3fu5Ic//CFms5m3336bM888kx//+Me88cYbrFq1CrPZzMKFC5k2bRpNTU288MIL7Nixg1GjRvHTn/5U3acsy7z//vvU1dVx3XXXYTKZBvAddp8VK1ZQXl7OV199hV6v56abbmLEiBG89dZbtLa2UlpaykUXXURiYiIvvfQSsViMhQsXMmXKFFpbW/nb3/7Gnj17yMvLAw7eyP7xj38wcuRIpk6dypo1a3jttdcIBoPMmzeP1atXq+dpwYIFnHXWWTz11FPs2bOHM888k+uuuw6DwcCHH37IG2+8QUZGBh0dHYeNe+vWrfzrX//C5XLhdru55ppr2LhxIzt37uSaa65h1qxZVFVV8cQTT9DY2MjkyZP5yU9+gs1mY8WKFbz++usALFy4kBEjRqj7raioYOnSpVx99dVkZ2dzqC3joER8owcx1dXVlJWVAQcFZ8OGDciyTFlZGcuWLeP//b//R3p6Oi+//DLNzc08/fTTTJ06lYULF7Jy5Uqqq6sH+B0MPsLhMMuXLyctLY1f/epX3H///ZSVlfG73/2OdevWsX79erKysnjwwQeZO3cu999/Pz6fj+XLlyNJEo8//jjXXHMNVqsVAL/fzyuvvMLKlSu5/PLLMRqNA/wOu09VVRWvvPIKN998M5MmTeKJJ57A4/Hw5ZdfsmXLFu68804SEhJ4/vnn+fGPf8xVV13Fs88+S01NDW+++SYej4f/+Z//4cCBA3g8HmRZZu/evTQ2NlJWVsYDDzzAT3/6U+6//34KCgr4zne+w7nnnsvjjz/OzJkz+cMf/kB8fDz3338/JSUlLF++nG3btvHaa6/xs5/9jPHjx7N///7Dxt3c3Mz777/Pj370I6ZNm8YvfvELiouLWbBgAW+++Sb19fUYDAauuuoqHnnkEfbv388rr7xCMBjk4Ycf5s477+T+++9XRVuWZfbt28fDDz/MuHHjyMzMPMmfRM8Rwj1EufDCC8nNzWXChAk0NDTQ1NRELBZj2rRpFBUVMXPmzIEe4qAlOzubGTNmUFhYyMSJExk/fjzZ2dmMHj2a2tpakpOTWb16NeXl5VRWVtLW1kZOTg4tLS3885//pKmpCZPJhCzLrF69mo8++ojf/e53JCUlDWor7UjMmTOHkSNHMnv2bGpqaggGg+h0Oi666CKys7Oprq6mtbWVjRs3smPHDkpKSqipqaGsrIxZs2aRm5vLZZddhk7X9eH9448/ZsaMGUyaNIlhw4ZRUFCAwWDAaDTicDhoa2tj586dBAIBVqxYQTQa5T//+Q8VFRUUFBQwZswYpk2bxujRo4847qlTp1JUVMS4ceM47bTTKC4uJj8/H5PJhNvtxmq1Ul9fz4oVK9BoNOzZswetVsuYMWN4//33Wbt2LXa7HThoFN19992cc845XHDBBeh0ukH/OQpXySBGp9MRCASAg5ZdZ1+f1WpFkiS0Wi2RSOSwbYV//OjodDoMBgMARqNRtZI1Gg379+9n9erVnH322SQnJ2MwGPD5fHznO98hLS2N3bt3849//ANJkpAkiczMTGRZpqamhtTU1IF8WyeEcp3IsqyKlV6vx2g0qq8dDgcpKSno9XruuOMOsrOzD9v2mz5ijUZzWLRGZzGUJAm9Xk9KSgo2m41zzjmHjIwMDhw4oO7vSPtVMBqNaLVaJEnCbDaj0+nU40WjUd58801KSkqYNm0adrud1tZWtFotv/71r9m1axdr165l9+7dXHvtteh0OsaOHcvevXvx+Xzqd2swIyzuQUxhYSFffvklO3bs4P333z+iv08hLS0Nk8nERx99xIYNG1izZs2gv/gGIy6Xi/b2dsaNG4dGo1FdAKWlpbjdboqKitBoNPh8PgAmTJjAz3/+cx588EG2bdtGNBod4HfQMz766CM2b97MBx98QF5e3mH++XHjxmGz2UhKSqKoqIi4uDgcDgdjx45l1apVbN++nTfeeOMwQ+H73/8+X3zxBR9//DFfffUVe/fuJS4uDqfTyYEDB7BarZx++um0trZSVFREVlYWZrOZkSNHUlFRwcaNG/nPf/5DSUlJj9+TciNNSkpi9OjRVFVVAQc/223btpGbm0t2djbNzc0AmEwmbr/9diKRCE8//bT6mQ9mtIsXLx7oMfDMM88svvHGGwd6GIOGWCyGx+PhggsuQKvVsnLlSkaNGsXw4cOZMWMGLpeLYcOGkZ2drT7aTpkyhby8PNatW8f+/fuRJImxY8dSVFQkBLwTsViMjo4OzjjjDEwmEy6Xi9GjR5OYmIjH42HcuHHk5uby3nvv4XA4GDFiBDNmzKC9vZ1//vOfbNq0iRkzZjB79myi0SgWi4U5c+aQl5fHpk2bKCoqUq35wc7mzZuJj49n3759BAIBbrjhBlJSUvB6vQwfPpyMjAySkpLIzs5mxYoVfPrpp2g0GsaPH09hYSF1dXV88sknTJs2TXVv+P1+RowYwejRoykoKGD58uVs2bKF0aNHU1xcjNPpZOXKlcTHx3P55ZezZ88eli9fTkVFBcXFxYwdO5aEhATef/99jEYjEydOZPLkyeqcAkAgEMBgMFBUVEQ0GiUWi1FUVKQ+oY4ZM4bi4mK++OILtmzZwpw5c0hPT6e4uJgPP/yQFStWEIlEuOWWW7Db7QQCASZPnswZZ5xBSUkJqampg8Lt9cwzz3DjjTfee6T/SYPhzjJp0iR58+bNAz2MIU9dXR1ms5nW1lYWL17MLbfcwrRp0wb8AhQMTv7v//6PQCDAokWLDvNRCwaeSZMmsXnz5iN+eU/5TysWi+F2u/H7/dhsNmw220AP6YTZunUrS5YsQZZlLrnkEsaPHz9oRFuWZdxut+pDtNlsg2Zs3yYCgQAdHR0YDAbi4uLQarVHXddqtQrBHqKc0ha3LMs0NDTw+OOP4/f7SUxM5K677sJsNp/0sfQF3/wsB4swyrKM0+nkT3/6Ex6PB7PZzOLFi7FYLAM9tG8Vsizz1FNPsXv3biRJYtGiRYwePfqo14FyvQyW60TQlWNZ3Kf85ORXX31FamoqjzzyCKFQiF27dg30kE4YJdJB+RlM7Nu3D71ezyOPPILRaGTr1q0DPaRvHS0tLWzcuJGHHnqImTNnsnbt2mNOsg3G60TQPU7p5yRZlqmrqyMrKwuDwUBBQQFVVVVMnjwZOJgJ5vV6qaur48ILLxzg0Q4NRo0axYoVKw5bfuDAAbKzszEajYwZM4b9+/czY8YMZFnG6/USCoWYN28e+/btG4BRDz1GjhzJihUrughvXV0d6enpWCwWcnNzWb58uSrcgUAAn8/H888/z5IlSwZq2EMKq9XKW2+9xahRowZ6KIdxSgs30CUOOhKJdPEJNjY28sYbb1BWVtavhW6+TXSe/e/M0c5zOBzmvffe48svv2Tbtm20tLSctLEOZTqnait0PsfRaLTLtfzll1/yzjvv8Pnnn4truZtkZWUN9BCOynFdJZIk/U2SpCZJknZ1WpYoSdIqSZLKDv1OOLRckiTpCUmS9kmStEOSpNP7c/C9RZIkcnJyqKqqwu/3s2vXLgoLC9X/Dxs2jNtvv5277rprAEf57SAvL4+Kigp8Ph9bt26lqKgIQE1N/tOf/kR6evoAj3Jok52dTX19PU6nk71795Kfn69a5FOnTuWBBx7g3HPPHeBRCvqC7vi4/w6c941ldwGrZVkuBFYfeg1wPlB46OdGYNA/k40ZM4ZgMMiCBQsoKCg4aoqtoHfk5uYSFxfHNddcQ2pqKuPGjRvoIX3rcDgcXHbZZdxwww1s3ryZGTNmCB/2t5TjukpkWV4jSdKIbyy+GJh16O9/AJ8Adx5a/qJ80LG2QZKkeEmSMmRZru+rAfclkiSRmJjIvffeq6b8igu975EkCavVyj333CPOcz8iSRJz587l0ksvVc+vOM/fTk40qiStkxg3AGmH/h4GdC5JV3No2WFIknSjJEmbJUnarKSeDgSKiGg0GnGR9yPiPJ8cOp9jcZ6/vfQ6HPCQdd3jYHBZlp+RZXmSLMuTUlJSejsMgUAgOGU4UeFulCQpA+DQ76ZDy2uB7E7rZR1aJhAIBII+4kSF+z3g2kN/Xwu822n5wkPRJWcCzsHq3xYIBIKhynEnJyVJeo2DE5HJkiTVAL8DHgTekCTpBqAKuOLQ6v8CLgD2AT7gx/0wZoFAIDil6U5Uyfyj/OucI6wrA7f2dlACgUAgODqnfK2SwYCY/RcIBD1BCPdJQmmzdCQ0Gs1RO7ELURcIBN/klK9VcjKw2+0MGzaM9vZ2GhsbgYOCfLx+fGazGa1Wi9/vJxgMotFojthfUiAQnFoIi/sk4Pf7qaurw+l0qss6i3YsFkOSpC5F7WVZxu/34/F4CIVCxMXFDeqiNwKB4OQhLO5+QMlaUxqoxmIxXC6XmtH2zQL2imB3bjSrdKtWRD0cDuN2u9XMuKHWlFYgEPQdQrj7AUmSjtgySpZlNBoNsix36YptMpmIRCKEw2F1+292zfb7/fh8PmRZVut9DIbuRQKB4OQjXCX9hCzLaLVaDAaDOjGpCLZiaXcW3m+KsFarxWg0otVqu1jf8LVrpScTl1qtlvj4+G51IFesetGPUCAYnAjh7gdkWSYSiRCLxTAYDOj1+i7FlRQ3h16vR5IkfD4foVCoy/YGg+GwZq6KoCrrKOuZTKYjjkOj0aDVatFoNOj1elJSUjCbzYcJ/jcnRpUnBmXcojCUQDC4ECZVH2EwGIhEIl3cIdFoFK/XCxy0kk0mkyrUOp2OtLQ0WlpaiMVi6g8cFGWfz4fP5+tSVU+n0xGNRlXRBkhLS8Nms3HgwAECgUAX37fZbMZgMOD1eolGo+zfv7/LtnBQ3I1GI4FAQF2ujEOSJCwWC36/H41G02WMAoFg4BAWdx9gMBgoLi7G4XCg1WqxWCzY7XZ0Oh0Gg0EVu2g0qvqxY7EYHR0dhMNhwuEwsiyj0+m6WMhGoxGHw4HNZlOt828Kb3NzM5Ik8d3vfpe0tDTVQlfaWIXDYcxmsyq63wxBVNw4ioArFr3ValWjWCRJ6uKqUZYJBIKB4ZSyuH0+Hy+++CIlJSXk5uZy1VVX4XK5ePbZZ9HpdPziF78gISGhx/uNRCJUVlaqlq3f71dFWBFqq9VKNBolEAgAX1vVihimpaWRkpJCIBDA5XJhs9koKCigtbUVl8uFy+XC7XaTnJxMU1OT6lqJi4tDlmW+/PJL2tvbiUaj6HQ6ZFkmFAoRjUa73DwUOke+BINBtFptF4s6EomooYiK1a28F61Wi9lsxuv1Huabj0Qi/Oc//2HFihUYDAbmzZtHQUEBTz75JE1NTfzoRz9i0qRJR004EnSPjo4Ofv3rX+P3+5k9ezbnn38+K1as4JNPPmHixIlceeWV3ZrPEAxNTinhjsVinHnmmVx66aW88sor/Oc//2H37t2cffbZOJ1O/v73v3P77bf3aJ+KiDmdzi6ip0wgRqNRjEajam0rQqdMFgYCASRJIjk5menTp2OxWHj11VcxmUyEQiGys7OJxWI0NjbS0NCgCunFF1/Mrl27qK6uJhgM4nQ61X1brVbS0tKwWq24XC4aGxuxWCwUFhbidDrp6OggFAp1sfYlSVInUkOhEJFIBL/fTzQaJRQKqb5uRdwjkQgGg4FwOHzYTSE7O5tFixbR2NjIiy++SF5eHjabjZkzZ7J8+XIKCwtP6AYp+Bqj0chVV11FYmIid9xxB3q9nh07dvDTn/6Ud999lw0bNjBz5syBHqagnzilhNtmszFhwgSi0Sh2u51IJMK2bdu46667iEQiLFiwoMfCraDT6QiHw+pEXmfXgizLhMNhNetRyaRULOPJkydjMpmwWq2YzWYSEhLUdl+5ublEo1EikQiRSIS4uDhMJhOXXHIJ0WiUhoaGLuJrMpmwWCxoNBrVivf5fKSkpKjCazabsdlsajx4fX29Ol5F/BXBBtSszc7ukWg0il6vV/30Pp9PPQ+FhYXIskwgEECj0fD555/z+9//nuzsbF566SV8Pp8Q7l5iNpspLi4mGAxiMpmorKwkKSmJwsJCiouL2bt3rxDubzGnlHDDQRHdv38/paWlXHfddbz44ouqD1gRH4W6ujr++c9/UlZWdtT9xWIxvF6v6h/W6XRdJicB1WJVfNSKcLe0tHDWWWcxfvx4SkpK2Lp1Kz6fD71ej9vtRqvV4vF4CAaDhMNhbDYbY8aMQavV4nA4yM3Npba2lubmZjXCJC0tjYyMDFpaWmhtbcVut5OZmUlOTg47duwgOTkZm81GJBLB4XCQlJTEe++9h9vtVq1/5Twpgt0ZxQev3JzsdjuBQEC10hXC4TAvv/wyU6ZMobGxEavVil6vP8xXHg6HWbZsGbt27VLLAQi6RywWY9myZeTm5pKenk5zc7MaRto5Sglg06ZNfPDBB6xZs2aARivoS04p4ZZlmdbWVv76179y+eWXU1hYSHx8PG1tbYRCIZKTk7usn5KSwrx58zhw4ABPPPHEYftThFjxFXeePNRqtV3C/hQ/czgcxu/3U11djcvloqCggLfffpvPP/9ctZyVn5qaGuLj47FYLDgcDuLj49mxYwder5exY8eSm5tLQ0MDsiwTFxdHYmIiw4cPJzExkba2NjZu3EhNTQ1jxozB5/MxYsQIZsyYgVarpaSkBL1eT15enuqyUYhGo+rYY7GYGhqoCK5Go1HX37t3LzabDbPZrN74/H4/Tz75JNnZ2fzgBz9g/fr1NDU1YbPZVHeMgk6n49xzz2XmzJm8+eab9Ef/0eTkZOLi4o67XigUUp9gBjuxWIzVq1eze/duFi1axK5du6itrSUYDKpzJJ0pLi4mOzubQCDAJ5980m/jUqKljhSiGolEaGhoIBgM9tvxTxVOKeH2er3cfffdGI1GvF4v5eXlzJ49m7///e/4fD4uu+yyLuvr9XqSk5O7WOKKNd3ZV63ESxsMBkKhkGq5Kq6QrKwshg8fTiAQUL9ccDAi5Ne//rU6ifhNQqEQTU1NXUIC4+LimDp1KpmZmbhcLuLi4hgxYgTjxo3j9NNPJykpiV/96lfEx8eTlJREZWUlJSUlqqulubmZ3NxckpKS8Pl8rFy5ktGjR6s3l9bWVtrb24Gv482Vic4jhRJGo1E8Hg+JiYmYTCai0ShLly5l7dq1XHvttWzbto1zzjmHN954g5ycHIYPH47D4VD3IUkS8fHxAH2a8KPVasnKysJoNHLHHXdw5ZVXHneb8vJy7rzzTqqqqg77XzAYpL6+/jBLdqBobm7mkUce4cILL2THjh2kpKTQ3t7Om2++SVlZGVdccUWX9S0WCxaL5TBB7y2pqanq5weQmZnJvffey/jx4w9bt6mpibvuuotdu3YBBydYladFQc84pYRblmXOP/981f8ajUa59NJLWbduHVqtlnPOOaw3xGF0fszX6XSYTCa1el/nNHSDwUBcXBwejwe/38/evXvJzMwkLi6OkpISPB6PGoHSnXErWZdOp5ONGzdyzz33EIlEaG9vR6/X09rayvbt22lvb6e9vR2v10tzczPhcFiNCTeZTFRVVVFfX6+6LSwWC7NmzcLpdGKxWNDr9ej1enw+H06nU/WLf9P9o9VqsdlsamRJZ5EfPXo0ZrNZFfzp06ej0+lwu92ce+65WK3WE/n4ekR8fDy///3vKSgoIDc3F4fDcdwQxlGjRvGnP/3piJ9JSUkJ9913HxUVFf015B5hsVi45pprsNlsBAIBMjMz+eEPf0hZWRkXXngho0eP7vcxaDQarr/+en7wgx+oy0wmEwUFBV1uzp3/t3jxYtxuNwDvvPMOf/3rX7s87Qm6xykl3Ha7nblz5x62/JJLLunW9op4KY+BiqVstVrxer1EIpEumYYmk4nk5GR+9atf8dZbb7F27Vo1kuN4j+OSJGE2mwkGg12s8UgkQktLCy0tLQCqG8PpdJKcnExKSgoGg4HU1FTgoGXmdrvV6Ja8vDyam5upr69XLdzPPvsMl8vFaaedBhycxE1PT2fPnj0YjUaCwSChUEgNL/P7/eqcgDI2l8sFHLS4pk2bxrRp07q8nzlz5nTrHPcWjUZDfn4+f/7zn/nOd76D3W7v9rYWi4WJEyd2WRaNRtm9ezd///vfaWpqOsqWJx+73c6CBQu63IzS0tKOaOn2B8nJydx2221cd911ZGZmdiuu32g0Mm7cOPX18OHDKSgo4Pbbb8fv9wvLuweIYNoToHPVvlAo1CUao3P1PpPJxPnnn8/EiROx2Wy4XC48Hk+3jqGkzR/tYlbS0ZVxJCQkcMYZZ5Cbm4vb7VYzMh0OB3FxcWg0GoLBIIFAgEgkoroolEktp9NJRUUF+fn5zJ49m+zsbOLj49Wbk+KXViYglfF1/nsw1AofM2YMt912G7Nnz+4Tt8CWLVt49NFH2bBhg5oFe6pjMplYtGgRV1xxBZmZmSe8n8zMTH7wgx9w8803q4aGoHucUhZ3b1FcBp0n7CRJIhgMqv5sWZZJTEwkKyuLcePGcd555/HOO++wc+fOHpdiPZY/VTmezWYjMTGRnJwcTjvtNKqrq4nFYrS3t6PVarHb7TgcDhwOBx6PRw1NtFqtpKenq26LkSNH0tjYiNPp5Mwzz2T48OFUVFSg1+tpamrqEpIIXzd76CzeA8348eP5+c9/zhVXXIHZbO7VvqLRKBs2bODJJ5/kzTffFGV0D5GWlsb8+fO55ZZbSElJ6dW+JEkiIyOD+fPns3LlShFV1AOEcPeQb5Zs1ev1BINBrFYrRqMRv99PfHw8I0eOJCEhgf379/Pcc89RW1vbZ8cH1JolNpuNlJQUJEniwIED+P1+jEaj6taIRCKkpKSQlpZGc3Mz8fHxXW4wzc3NRKNR8vLyiEQibNmyhcTERKZPn05qaioajYa2tja1Xony3qPRqBoqqGRdDqR4jxw5kquvvpqrrrqqVxmDwWCQXbt20dbWxtKlS3nnnXeEaB8iKSmJCy+8kF/+8pckJSUN9HBOaYRw9wBJkjAajYTDYVW4/H6/KlyZmZm0t7cTi8Worq7m7bff7lP3gXL8zjHTHo+H9vZ2/H4/ZWVl5Ofn09raSkJCAklJSWoKfEZGBpFIhMTERNV33jnF/cCBAxiNRqxWKx988AHbtm3j9NNPZ/369WpUTSwWUycvPR6POqmkZIYqBbZOJlqtlurNcjQAACAASURBVLy8PP74xz9yySWXHLEO+vFoamqipqaGWCxGW1sbv/jFL/jqq68GxVPEYGLGjBk89thj3Zro7Q5K2Ye9e/d2a5Je8DVCuHuAkqauRITodDo8Hg8mk0nNmjQYDDgcjj7JDFRCChVrVqvVqhOKikDGxcWh1WpxuVwUFhbS0tKC2WzG7Xbj8/nUFHbFutZoNGRlZVFRUUF5eTkZGRm0trZSX19PXl4eFouFlpYWDhw4QHt7O0lJSUiSpEbhKKnyCjqdrks448muHmi327ntttuYM2dOj24asizT3t5OMBhk2bJlLFmyRE3xr6+vPymirSRSeb3eQRNmeDSsVisJCQl9UuJXlmU8Hg8ej4c9e/bwP//zP9TU1PTRSE8NhHB3E8VfrNT56JxwAwcFVAmfczgcvbY8NRoNNpuNnJwcAoEAbrdbDT1MSUmhuroar9dLQ0ODmvRQUFBAIBBQy7Tq9XoyMjIwmUxs27ZNfbz94osvqK6uxmKxdClG9dVXX6nFpGRZxu12k5GRQWJiIlVVVXR0dHSpWaJkara2tqolaE82JpOJjIyMI4afHYtYLMbixYtZs2YNTU1NaiLTySQjI4PFixfz3HPPsWHDhpN67J5y2WWXce+992KxWHq1H8XKfu655/jb3/6Gz+ejoqJCPN30ECHc3UCxfMPhsCpynS+0SCSC1Wpl1KhRADQ2NlJSUtIr36giqCaTCa1Wq8ZmJyUlqenpWq2WxMRE7HY70WiUzz//HLPZzOTJk9m7dy81NTVqBmdbWxszZsygvr4eu93OqFGjMBqN2O12Zs6cSUVFhVr7REkQikQiVFdXqz5jg8GgRpgorqL29vYuKf0nE7PZzEMPPcSZZ57Z4201Gg3z5s2jpaWF3bt3n3ThkCQJm81GXl4eCQkJXTJtBxuKYZCdnd2rz1i5ph966CFee+21Y5aSEBwbIdzdRBFJt9uNx+NRQ+o0Go3qmvD7/YwZM4ZIJML27dt7JQbKRd7U1ERcXBwJCQnEYjHGjh1LVVUVra2t6k1EyaxsbGykoKAAr9erloG12+1kZWVhtVqpq6ujtrYWv99PamoqmZmZqjgnJiZitVrx+Xy0t7erE5ihUIiUlBRsNhtNTU20tbUdVojKYDCoDY1PJnq9nrPPPpuMjIwebytJElOnTiUWixEIBFi+fPlJdVckJSXx3//93+Tn53Pttdfidrv5/PPPT9rxu4tWq+Xiiy/mvPPO6/W+nE4nL774Ii+//DLl5eV9MLpTFxHH3Q0UEUtISFDbfxmNRiwWC2azmby8POLi4sjNzWXatGmq5d0bFFeJwWBQk37S09NVP2NaWprqklG660yYMAGtVsv27dsxmUycdtppZGVlqY0Y6uvrqa+vp729nebmZpqamnC73ezevVtN73c4HOj1enUc8fHxnH/++RQVFREfH6924VHGqFhgJ7s7TkZGBpdffnmvYrU1Gg3Tp0/nu9/9bpf3fDKIj49n4cKFZGdnM3fuXCZMmHBSj99dtFotc+bM6XWlwY6ODl5++WWeeOIJIdp9gBDubqDELCv+a4vFgsFgwGKxkJSURG5uLkVFRVx11VWcdtppfSJgOp2OzMxMtfyrYg2Wl5dTVVXFsGHDyM7OJi0tjYSEBKxWK6NHjyYcDtPQ0MDo0aOZNWsWNpuNzZs3s3PnTvR6Penp6SQlJdHe3s727dupqanBZDLhcDgwm81qdUMFs9nMlClTcDgcXaJGdDqdOlEaCATUKJWTRX5+PnfeeWevJoGVJ6aB6uajHFuZNxisKOPszXlqamriscceY//+/X04slOX414tkiT9TZKkJkmSdnVatliSpFpJkrYf+rmg0//uliRpnyRJJZIkfb+/Bn6ysdvtai0PRcSCwSDJycm4XC7C4TBNTU288cYbrFixotc+UyVlXinzmpSUhN/vp7y8vEtRJqV4UCQSYe3atQQCAbUhcFNTE2VlZTQ1NREIBCgpKWHatGkMHz5cbbHm9XopKioiOTmZ5uZmGhsbu9SOCAaDahceJdXdYDCoE6CKr/tkC0/ntmsniizL1NbWcuDAgQHtpSlJEllZWWRlZX1rW8J1rmcj6D3d8XH/HXgSePEbyx+XZfmRzgskSSoC5gHFQCbwkSRJI2VZHvKfWDgcxu12M2LECLWwT3NzM/v370ev15Odnc3//u//UldXR11dXZ8cr7y8nKlTp+L3+/H5fCQmJtLY2MiECRPYsWMH7e3tqkXu8XjUbvEWi4WysjIsFgtGo5GRI0cCB+uLV1dXEwqF1B6ZDQ0NFBQUUFlZSV1dnVpzREGZmMrKyiI3NxdJkmhra1NDIJVemZIkDYqU954QjUZ54403eOGFF05qoSMlbFRBkiQWLFiA0+nkkUceGVRlT5UnTcHg4rjCLcvyGkmSRnRzfxcDS2VZDgIVkiTtA6YA6094hIMAWZZxOp1qVIXBYCA+Ph5Jkmhvbyc1NZWGhgbS0tKIxWJ9ZllIkkRraysjRozAbDZTW1uLyWQiEAhw9dVXs3v3blpbW9UIhcLCQhobG4mLi1OFfuLEiezatYvy8nIKCwvVSUwlXb+9vZ19+/bR3NxMbW3tYbVUGhoaWLx4MYWFhdhsNhISEggEAvj9ftXSj0QiqutkKFmMSn32/qgBfizOO+88fv/736vFyiRJIiUlRc2AHSzY7XYeeugh5s6dOyTFW5Ik9Sk5GAx+q5J8evNpLJIkacchV4riaBwGVHdap+bQsiGNEq+tJLmMGzeOuLg4JEkiPT0do9FIJBLB6XR26SLTGxRXTGVlJdu3b6etrY2cnByMRiPt7e24XC5VQD0eD21tbdTV1RGLxWhqaiI+Pp6EhATq6urUySCz2axGw5jNZtLT05k6dSqnn346wFGjQiRJoq6ujmAwiNFoxOfzqd3jOycFHasoluBrHA4HI0aMGPRiqNVqyc7OVlvpDTXMZjO33norjz32GJdeeukJZdUOVk40HHAJcB8gH/r9KHB9T3YgSdKNwI0AOTk5JziMnqMIi9K5pvOyY03A6PV6UlJS1LEqvu74+HgaGxuJj49Xq+l1V7y0Wi1paWk4nc7DKs8p9beVWtv79u3DbreTn59PWVkZW7ZswWKxqCGKnTu7m81mQqEQpaWluN1u1SctyzKNjY1qlIxinSux4UoRrW8+MYTDYTUl3Gaz4XA4cLvdailbJdKk83admy50TlRSzu9QFIK+4pvvvTc3O8U33/kcK69P1XOcnp7Oz3/+c+x2OxdddBHZ2dmcdtppGI1GXnnllUGfpdodTuiWL8tyoyzLUVmWY8CzHHSHANQC2Z1WzTq07Ej7eEaW5UmyLE/qbZWxnrJu3Tp++MMfsmvXLv71r38xb948rr/++qMWglJE3uFwUFNTQ1VVFV6vV7WYlGzF6dOnk5eX1+1xKNEqdrsdk8nU5YumTL4pzYPNZrOaVu92u2ltbSUcDqvNHOLj49XmBZ2Tbtra2tTuNkqTBeU91dbW8sUXX7B27Vra2tqOaDErXXOcTietra14PB6MRiOxWAyXy6Wm/n/TTeJ0Orn88st57rnn2LdvHzfccAMLFixg5cqVAzoRONCMHDmS6dOnYzQauyzfunUrW7Zs6ZGbLRgM8sADD3DDDTfQ3t7Ogw8+yPz583n44YcP6596qjB8+HCuvPJKfvazn/Ff//Vf5OTkIEkSEydO5IILLjjpYZ/9xQkJtyRJnTMeLgWUiJP3gHmSJBklScoFCoGNvRti3+LxeHj33XfJzs4mFArx+uuv8+ijj3LppZfy+uuvH3U7xXddU1OD3+/HYDAQCATUdO/W1lYSExNJTEzs9iOZkvyiNPrtLJrKLHxLSwtarZbc3FzsdjuVlZVqrZTa2lpKSkpob29Xk4BisRiNjY2kp6eTlZWF0+mkpqYGt9tNU1MTFotFtc60Wi3V1dWsX78ej8dDOBw+oqh2DgcLh8O4XK4uTwgGg0HN8ISD5Whfe+01xowZQzAY5MUXX+SGG27g17/+NRs2bDhsAnSgkCSJkSNHUlxcfFIeoydMmMDtt9/Orbfe2iX+PBaL8fLLL/PSSy91O4lJlmW2bNmilhrYsWMHJpOJp59+GoDNmzf3y3s4UaxWK9OnT+/S5qyvGTFiBLfeeiv33XcfFotFNSaGQshlTzmuq0SSpNeAWUCyJEk1wO+AWZIkTeCgq6QS+C8AWZZ3S5L0BvAVEAFuHUwRJbIs8+abbzJx4kQqKyvx+Xx4vV41DGvZsmWHra+gVNgbPnw4qampOJ1O9u7dqwqpwWDg/fffp62trYvlqSTIHA2ldvaR1lGqAPp8Purq6mhubsZqtaphghaLBZfLRSQSIT09nZaWFiRJwm63E4vF8Pv96PV6rFarWp87MTGR2tpa2tvb1ckxpRztkR7ZdTodycnJuN1u0tPT1aJITqdTbSTh9XrR6/Wq+G3btg2AiRMncuDAAZqamigoKFBvLp0jOAbSJ67Varnkkkvo6OjgscceO2Kvyb5k4cKFzJs3r09cGB6Ph/Xr13PmmWfyr3/9i7a2NrX8QW5uLtXV1V3WH+i5h/T0dH71q19RWlrK1q1b+2y/Go2GhIQELBYLV1xxBT/5yU9OSmu8gaY7USXzj7D4+WOsfz9wf28G1V/s3buX3bt3M3/+fLZt26Y24gWOWCuiqqqK5557jtLSUjQaDSaTicbGRrKzsxk1ahR+v5+GhgY1vGvmzJls3769S5LB8dwCkiSRnJyM3+9X3RidUSYbjUYj2dnZeDwepk2bRnx8PNu2baO6ulptWbZz505kWaajo4P9+/eTn5/P2LFj1TA/SZLYunUrer2e4cOHq4+Nx3qsNhgM5Ofn4/F4cDqd6g1EcatIkqTGcisTuJ999hmjRo2isbGR9vZ2dcJWWacz4XCY559/Xu1If7JRapYoCVRtbW19Hm+s0Wiw2+2kp6d3q9t8d+jo6CASiWAymXC73bS1takhhkcyFj799FNeeukl9aZ6PCRJIjEx8TCXzomiGAC9qZXeGWWOKS0tjXvvvZdZs2ZhNptPCdGGU6xWiZK2/uqrr7J161b1IlIKDSnxzgojRozgD3/4AwcOHKCoqIimpiaam5s5cOAA5557Ljk5OSxfvhyHw0FiYiJNTU20trb2yLpRQtKOJfDRaJRwOIzRaFRFXllmsVjw+/18+umneL1etbuN2WxGr9erk4jhcJjTTjuN3bt343K5qK2tJRaLHTf22u/3s337djIyMtTsyJSUFFwuF8FgUM0ktVqteDweJEnCarWydu1a9u/fr56Lmpoa4uLisFqtXb68BoOBm2++mZtvvpnNmzfT0dHR7XN3osRiMbU87SuvvILb7ebKK6/k4Ycf5re//e1h1mpvSUtL42c/+xmzZ8/us31qtVo6Ojp46623KCkpITs7m/T0dPx+PzU1NRQVFXVZf9asWcyaNYv77ruvW+LtcDh4+OGHD+vBOdDodDr0ej0TJkzgjjvuICMjg5EjR5KcnDzQQzupnFLCXVRURFFREU6nk6eeeorzzz+fHTt2cM899xCNRvnlL3951G0DgQBlZWVMmzZNLXF67rnnotPpWLp0KXl5eWpxp55ypIQLg8FAJBJRBV2v1yPLMjt27CAcDnPWWWeRlpaG2WxWJybD4TC1tbUYjUbMZjMej4eqqirVFaP4T8PhMO3t7aplaTKZCAaDR7zhKEW0kpOTycnJIRQK0dLSQkdHBwkJCYwePVp1h4TDYXJycrj55puRZZkPPviAqqoqpkyZwjPPPIMkScyePbvHJVj7mpaWFp5++ml27drFrl27CIVCtLe3M2/evF6XLf0mVquVxYsXc8EFF5Cent5n+83MzOSBBx6gtLSUv/zlLyxatIhnnnmGO++8k+TkZM4444xe7d9gMDB58uRB1+nm4osvZu7cuaSnp3PmmWf2+ec1VDilhFvBbrfz3//93xiNRsaMGcMFF1yARqM55sSJEqWhVMOLi4sjOTmZ1NRUkpKSaGlpIRQK4Xa7ezU2ZeJQ+cnLyyMcDuP3+zlw4AAdHR34fD4aGxvV5AIlpK+trQ2r1UpDQwMul4uWlhaCwaBqiZWXl6uRIPB1tMyxrH2bzUZxcbHawV5J2jEYDGonHSWO/JvCP2fOHLVpckFBAbFYDLvdrsZ9DxSKq0hpmvDZZ5/x0ksv0dbWRktLS6/3L0kSY8aM4ZJLLiEuLo4f/ehH/TYpl5+fzwMPPIDdbueXv/ylWvJgMLoM4uLiuOGGG2hra6O0tLTb2xmNRq655hqys7M5++yzmTlz5ikb6qhwSgq3UnlPobt+vFgsxvbt29X6JCtWrKC0tJSxY8eyfPlyVVSPhU6nQ6vVHtHKVmbAFdEeNmyYOhFaU1OD1+vFarUSjUYpLS0lNTVVtZadTqfab7KxsZHW1lZ1fSXDUWkk3Bkl9vt4NDY2qn5+pT65xWKhoaEBo9GIzWbrctNSaq0oJCYmHvcYJ4uEhAQWLlxIOBwmEonw2WefUVNTo0ZknCharZbJkyeTn5/P5MmTuemmm/rMR3w0dDqd6je32+3Y7fZ+PV5vcDgcXH/99bz77rvdFm6bzcZFF13EnXfeSWFhYT+PcOhwSgp3b2hrayMpKYnNmzfzxRdfqCUv161bR21trRrXfDTfsV6vVzMtDQbDUavq6XQ6srKyqK2tVS1pi8WiCr5iTdtsNjXtPDMzk507d6phgXAwnlppFNDTyAIllrysrEytSzJixAiKiorYtGkTiYmJxGIx9f329mnjZOH3+yktLe2V60IpQ1BfX8/o0aPVBs233HIL3/ve99TY+aFKKBRi06ZNagXMviAQCKhlGrpLamoqixcv7lF+xKmAEO4eEo1GCQQC2O12xo8fz0033URbW5vqtoiPjycWix21/oXf7ycQCKhhTK2traoYKxMvPp+PQCDAli1bVAvXbDYzatQorFYrGzZsUGtwK6KpTApqtdrDBPpEE14MBgMFBQWYTCY1pb6urk4tD2u1WnG73VRWVg4Z0QZobW3liSee4Oqrr8ZqtZKWlgYcjKvv6OjoVlTJ/PnzKSgo4JlnnuGBBx5QY8GVydfuPsorvS+/mTk70LhcLn7xi1/w7LPPMmfOnD7ZZ2trK/fcc0+3Y8yVqpjKdS34GiHcPUSJu+7o6FC7ySQnJ2O328nOzqawsBCXy8Wnn356VAtXSa5pbGwEvvZrRyKRLqIRDofVkCeTyUR1dTV2u52ioiKqqqoIhULYbDby8/PRarXs27cPh8NBIBAgEAioKexK27WeWtyhUIidO3eq9cCVLE2l843dbmfHjh24XK6THiesdAcaPnx4j33m6enpql/4jDPO4JprrgGgtLSUG2+8sVuF/iORCKFQiO3bt3P77bezYsUKkpOTe+x79fv9/OxnP+P999/v0Xb9jVJYrS/Tw5Vs2+4kGZlMJubMmcMf//jHXk/qyrKM1+s94jzMUEUI9wmgWJdut5tNmzZx+umn09zcTDAYZMqUKbhcLtasWXPci6RzJxngiO4Mn89HMBjke9/7HmeddRaVlZWYzWZqamr48MMPu3QIV7I2NRoNjY2NeL1eEhISyMrKYu/evT0uF6o0joiPj6ejowOr1UphYSG5ubm0tbWxcePGAfsylJSUcO+99/Liiy+Smprao211Op26jdlsVn3ELper2ynRy5YtU11XjY2NJ1zSVpZlmpubD6vKeKozZcoUfvvb31JYWNjryexYLMaqVav4v//7v0FVMrc3COE+AZQvqSRJ1NTUEA6HcTqdZGVlkZmZqbo8unuRHMv/HAqFGDt2LBMmTKCpqYlIJEJBQQGyLDN37lyqq6spLS2lvr4er9eLzWZTO9EDeL1e6uvreywsiqAFAgHVuszOzkav11NaWkpLSwsVFRUD9kXo6Ohg/fr1J1RHu6mpiSVLllBSUsLcuXO5+OKLgZ5VN9y3bx+TJk1i6dKlmM3mQTX52ld4vV4effRRTCYTs2fP7lXKuPKU2d3zm56ezqRJk3odPaI8yZaXl/Pll19+a5o5COHuBUrFwNTUVCwWC2PHjiU1NZXU1FTOO+88li9ffkzBVEIQFZ/2kVBKx9rtdrZv304wGGT27NlqFpqSup+QkKDGlyudaQDVbdJ5f3D8FOisrCzOOuss1q1bpz4y5+fnk5mZyaeffkpVVdWQtV48Hg+ffPIJa9asobW1Vc10bWxspK2trdv7ycrK4oorrlBff9tC1MLhMGvXrqW8vJxZs2b1al/t7e0sXbq0T5qM9JTVq1fzySeffKuKmwnh7gVKXZDhw4dTX19POBxm586dzJw5k6uuuooPP/zwuMKtRIUcy3LU6XQMGzaMyZMn09LSgsFgUC1qZdIwKysLjUajthc73riPJdySJDFq1Cjmz5/P/v37yc3NZf/+/arFZDKZunWc/iYUCvHee+9x0UUXMWLEiG5vZ7fb+f73v09ZWRkffvghH374YY+PPXHiRGbNmtUrsXa5XKxatWpAxKy7xGIx1q5dy2mnncaUKVNO+P02NzezZMmSPs9K7Q7vvPMOH3zwwUk/bn8ihLsXBINBdZKwra2N7du3s3nzZrRaLcXFxce8yJUaH0p51qOhVPnLyckhOTmZUChETU0NZWVlfO9736OmpoaVK1eqBaaUqBKlPrfyt1In/JtumSOJeGJiIvn5+WpvzVmzZuHz+fj000/JyMhQmykM9ERPIBDg4YcfJicnp0fCnZSUxC233MK+fftYt24dcHCSsLKy8rjb5uXlYTKZuPbaa7nuuutObOCHaG1t5X//938pKSnp1X76k0gkwuuvv05mZiZTpkw5/gaDiGg0SnV19RFrAA11hHD3Eo/HQ0VFBQkJCRgMBjweDwcOHCApKemYkyqK6B0vDGzRokVcdtllNDQ0sH37dpKSkmhqamL+/PmkpKSwbds20tPTu4iORqNh2LBhhMNhvF4vGRkZVFdXd5kAU2qBKxX+9Hq9+nTw/e9/n8suu4zdu3ezYMEC1q9fT21trdoQ+XjZlicTpRxtT1CKPi1ZskSNEvroo4+47rrrjukD1el0vPbaa4wfPx6dTtcrn28oFKKsrIzW1tZB73cNBALU1dVRU1NDZmZmj0PzvF4v5eXlPf6ceovL5eKWW27h3//+90k97sng21OgdgBRanUXFxeTnJzMihUrePLJJ4lEIiccf6pkHlZWVrJ7927MZjP5+fksXbqUdevWEYlEqKmpIT8/nx/+8IeHiUg0GiUWi+HxeGhoaMDhcHQZiyzLhMNhQqEQGo1GrXuilIxdu3Ytq1atYvTo0fzkJz9h2LBhZGdnk5GR0SM/cH8jyzKBQKDH4Y7KjctoNPLZZ5/x6KOPdktAlW5Cve0w39DQwN13382+fftOeB8nkxUrVvDoo48etQTx0QiHw2zZsoV77rmnR4k3vUUpa6yExX7bEBZ3HxCLxXC73QSDQQoKCqiurqa6upq8vDwkSaK0tLTHE3lxcXF897vfZfLkyaSmprJ3714++ugjwuEwWVlZ2O12vvjiC8rLy/F4PGi1WvUCjcViapheNBrF6XTi8/mOmO4OqA0bQqEQt956K4WFhaxatYrW1laeffZZtf+l0+mkra1tUDVddbvd/PGPf8RsNvODH/ygRx1OlPZwDQ0NlJWV9eMouxKLxfB6vezZs2dQnctj0dTUxEsvvYTT6eTBBx8kNTX1mDcu5dpbtmwZDz30EF9++WWPbqyKMXQiN0ilu9Pdd9/dp7W/BxNCuPuIcDhMeXk5oVCI5ORkHA6H2tPR4XDQ0dHR7UfFpKQkbrvtNpqbm0lKSiIzMxODwUBWVhbr1q3D4XAQi8UYN24c2dnZjB07Fo1GwyuvvKIKgd/vJzMzk7i4OOrr63E6ncf84ijb5efnEx8fT2trK/Hx8axfv57hw4fT0dFBU1PToGuJFYlE2LNnD3/+85/xer1cffXV3e63GIlE+OCDD3j99de7fWONxWJqYlNPUeYXNm3axNNPPz3keh+2tbWxfPlyDAYDixcvPmb8fCwW45133uEvf/lLj0UbDrZy+8tf/sL1119PfHx8jzJRa2pq+M1vfsOKFStwOp09Ou5QQQh3H9LS0oLf78fv9xMXF6e6IwwGA1qttlvCPXz4cBYsWMC1117L6tWr+eKLL9i5cydJSUmq+8RoNLJt2zZisRgtLS1YrVYmT57Mm2++qQqwUsZVaUfWnS+O4jZQ4tOVuOb29nYaGxsHnWgryLLMZ599RigUwmKxcMEFF2A2m4+5TSwW4+233+bpp59m7dq13TpONBrl1VdfVXsYnsg4t27dyuOPP85777036H3bR6K5uZkXX3wRm812zBrYsiyzcuVKdfK3p5SXl/PUU08Ri8W48cYbu92A4quvvuKll17i1VdfPeGkqKGAEO4+xuv1UlpaSkJCAqNGjUKn06n9JFtaWtTyqAaDQRVCjUbDmDFj1KSXH/3oR0QiEUaNGsULL7xAaWkp06ZNY/z48cyZM4eEhASWL19ORUUFHo+HyZMnc9ZZZ2G327sUmFL8e8drTqBU+0tISOCTTz4hEAig1WrxeDw4HA5KS0sHXS2NI7Fp0yYef/xx/H4/SUlJTJ8+vUvtb2WCNxQKEY1G+fOf/9yj3oyyLPPMM88QDAZZtGgRhYWF3bbuZVlm27ZtPPfcc7z99ttDWlQCgQB//etfj/u+e3tjqqio4K9//SsJCQlkZGSoT5hHo7y8nBdeeIHnn39+SJ/f7iCEux9Q/HtarVZtK6YUg1JispOTk6mvrycUCmEymbj11lsxmUy8+uqrfPzxx8iyTEZGBrFYDKPRSEZGBhMmTMBgMLB161Y+/vhjNBoNkydP5jvf+Q5jxoxhypQpfPXVV7S1teFyuUhJScHhcBy14FXn8qxGoxG73U4wGFSLJHV0dJzUCaXeEovFWLduHV988QXx8fE8+eSTFwzhxwAAGUdJREFUXboaffrpp/zhD39QH597ksmn4Ha7eeqpp5BlmYULF5KYmEhOTs4xKwGGw2Gqq6v5wx/+wPvvvz8kLe1vcjIiRGRZprq6mptuugmr1codd9zBRRddBHwdxqrcPGKxGK+99hqPP/74t3Iy8puccsIdCAR47733aG1tZdq0aaSmprJy5Uq0Wi2XXXZZlzrdvcHlcrFjxw7VD+h0OrFarZx11llcccUVZGVlAVBbW4vJZCIxMZG9e/cSjUZ55JFHcDgcXHHFFZhMJpxOJ6+99hq7du3iuuuuY9myZbhcLsaOHUtKSgotLS1UV1dz0UUXMXfuXNauXav2vjxaH0eltrbdbldvEG1tbdhsNkKhEFVVVSf8BYhEImzYsIHdu3eTnZ3N9OnTWbVqFR0dHcycOZORI0f2W5ahkuLc2trKrbfe2mWyMhAIHNfX3x1isRj/+Mc/ePvttznjjDP47W9/yxlnnHHEibRoNMrOnTt54IEHWLlyZZ+KdkVFBWvWrCEWi3HRRRepad0FBQWcffbZA96woq+IRqO43W4ee+wxlixZctT1vF7vKSHacIoJtyzLLF26lEAgwPjx47Farbz11luYzWacTifvvPOOWimuL47VuaN5NBolMzOT6upqHnnkESZOnMj48ePZsGEDPp8PSZLwer14vV4sFgsajYZPPvmE8vJytViUXq9n8+bNSJJEfHw8+/fvp7KykpycHIqLi0lLS2P+/Pls2bKF+fPnU1ZWxksvvaROgnVOvomPjycuLg632017ezt2u53i4mIOHDig1hU/UbZu3crnn3/O9OnTiYuL4+OPP6akpITCwkLeffddbr755n4v+K/08uwvPB4PHo+HTz/9FLfbzdKlS484WedyubjzzjvZuHHjCdVVOdbxly5dypgxY0hPT6eqqopVq1Zx+umn89lnn5GYmDjo+kX2BqVa4bd1srGnnFLC7fP5+Pe//81vfvMbjEYjqamprFmzhr/97W+Ew2FuuummPhNuOLy7zP79+9FoNIRCIfbt20dpaSlVVVXY7XY1jTwSiTBs2DACgQAejwev16tmRAYCASorK2n8/+3deXBUVb7A8e8vnaVDGjCBJCBEZBElCCYsEkkmYAZBlhEp4A1igU+pwVGnmJk3LqhVr8aqsWrmlYM69Sxx5o3MqJHlAQ4MYpUaEEeiYFgiO/KAFISsnYSQhWx93h99u21jIon0kobfp6ort8+9zfnldPj17XPPPaeszJu8m5qavAsp7N69mzNnztDW1kZ2djY5OTnk5OR4E0ZBQQEff/wx9fX1JCUleetISkqiqqqKw4cPU11dfVVzkLS2trJv3z4GDRpEcnIy/fr148033+TnP/85Q4YM4ZlnnuHSpUs9eqWW7qirq+OLL75g3rx5Ha5209LSwv79+/0+r4tnHvT58+cTGxvL0aNH6devH/fccw/Nzc3s37//mkrc6tuuq8Tt+cT+4IMPqKmpYdSoUdTW1nqH17X/NHc6neTn53snIbpanjsXRYTy8nIOHjzoHV5WXV3N5cuXGTx4MBMnTqS4uJji4mJGjhxJaWkp9fX1VFdXU1FRQWxsLDU1NSQnJ5OQkIDdbiciIoK6ujr2799Pnz592L17t/eiYkpKCiLC+PHjKSgo8A5n83wolJaWesd6X+1FnZaWFiorKzly5AgXLlwgIiKCU6dOER8fT2xs7HfmHG9tbeXzzz/n7NmzQVnhPRCam5vZs2dP0Os8e/Ys27dv58KFC8THx9O/f3+ioqKIi4ujuLj4W8efPHmSvXv3UlhYGNQ4VWBcV4k7NjYWEeHhhx+mrKyM119/ncjISOrr62ltbf1O/3ZMTAyDBw/2+4UY34UUYmJiaGpq4vLly4gIffv2paqqyjvxu2chBJfL5V1J3bOUVHV1NYmJifTq1Yva2lrq6uqorKykoqKClpYW7x2F6enpVFVVkZGRgdPppK6ujoaGBioqKryr9fhr3hGbzUZMTAxTp05l+vTprF69mrKyMi5dukR8fPx3bhUXEZKSkrwjbVTX2Gw2UlJSePzxx9m+fTurV6/m/vvv905Y1v7sv0+fPgwdOpT4+PgQRaz86bpK3DfccAPjxo3j6NGjVFRUeKdgff/996mtrWXGjBnfOt7hcJCenu63Nffa89yu7enKiIiIoKioiIsXLxIREYHT6aSxsZFevXohIjQ0NBAXF0d1dTUxMTGUlpbicrmIjo6mpKTEO9ba5XJRUlLivVDjuUhZUVHh7b/29MH7W1RUFKNHj6asrIyTJ0/S0NDAvHnz2Lp1K2PGjCE5OflbH5A2m41bb72VW2+9lV69evk9nmtVXFyc947ar7/+muzsbCorKykoKKCwsPA7y40NGDCAAQMGsGPHjhBFrPzpukrcIsITTzzB22+/TWRkJA8++CCRkZGsW7eOyMhIli1bFtL4PHOLNDY2EhER4e1G8R1D7Vkg+OLFi7S1tVFaWkppaal3HcvY2FjvLeyetSidTqd3pZVAz+gnIkyZMoWtW7eSl5dHdnY2kyZNIjc3l3379jFnzpxrpn87lPr27cvs2bPZvn07ycnJ/PSnP+Xzzz9nx44d3H777YwfPz7UIaoAuq4SN7jPPJ566qlvlT399NMhiua7PMPZPDd2eEaCREREICI0NTV5J1Sy2+2AO5n7ri3pOdbz7wV73LDD4WDx4sXfKlu+fHlQY7jWRUREkJmZSVZWlrds2rRpTJs2LYRRqWC57hL3DxEdHc3o0aPp27dvUPsIz58/T1JSUqd9v+1Xs/G9KeGHnlm3trZSXFzMkCFDftDrr2Yc/G233YYxpltza18tz5DNxMTEoNUJ7rv8hg4d+oPHs//QKWUHDhzIiBEjuOWWW65qWtruamxspKamhoEDBwatzsrKSu+NZT9EXV1dz13VyHdy/VA9xo8fb3q6bdu2mS1btgS1zhdeeMGcP38+qHVWVVWZJ598Mqh1ely6dMmsWLEiqHXm5+ebNWvWBLVOY4z52c9+Zpqbm4NerzHGPP7446ahoSGodR47dsysWrUqqHW+88475tNPPw1qnf5k5cUOc+YVP3JFJEVEdorIURE5IiK/tMoTROQjEfna+hlvlYuI/ElETonIVyIyLtAfPkopdT3pSldJK/AbY8x+EekN7BORj4B/B/KMMb8XkZXASuAZYCZwi/WYBLxu/QxrI0eODPrttFOnTg36hTy73c706dODWqdHdHQ0M2fODGqdKSkpIRnN0tHiF8Eye/bsbs1b7g/9+/fnrrvuCmqdY8eO7fKsguFGTDf7QkVkC/Df1mOqMaZERAYCnxhjbhWRN6zttdbxJzzHdfZvTpgwwXRnljallLrWTZgwgYKCgg472bt1cVJEbgbSgT1Ask8yLgWSre1BgO9Szuetsk4Td09mrDmUN2zYwMiRI3nggQcCdobW1NTEtm3bOHDgAImJiSxYsICDBw/yySefEBsby8yZM8nIyPD7BZMXX3yRxsZGbDYbK1as4MKFC2zcuJG+ffvy2GOPXXFua3+4cOECb731FgALFy5k+PDhAanH5XJRWFjIli1bcLlczJ07F7vdzvr16zHGMHr0aObMmeO3ycY8tm7dyhdffEFkZCT33HMPaWlpvPbaazQ1NbF48WJGjBgRlAth5eXl5ObmUldXx4IFCxg1alRA6qmuruaNN96gtraW9PR0cnJyePfddykpKSEhIYEHHniAQYMG+b3evLw88vLyiIyMJDMzk+zsbFavXk1NTQ3z589nzJgxPfeCYzd0OXGLiAPYBPzKGFPr+8sbY4yIdOvUXUSWA8sBbrrppu68NKhaW1t55ZVXeOqpp9i4cSMHDhxg8uTJAXnzXS4Xw4YNY/z48XzyySe8//77XLx4kdTUVKZPnx6wr335+fm8/PLLOBwOoqKi2Lx5M9nZ2Zw8eZJNmzb5df6WjrS1tZGbm0tqaioiwj//+U8effTRgH1g9O7dm4ULF2KM4dVXX2XatGnYbDYeeeQR4uLiAlJvYWEhGRkZjB8/nj59+vDuu++SlJTEgAEDWLduHStXrgx494XL5WLLli0kJSWRlpbG5s2bWbFiRUC641wuFzk5OSQlJfG73/3OO4vlT37yE4YOHUpCQoLf6wQ4fvw4qamp3H333TgcDjZt2kRMTAxTpkzhH//4B8OGDfP7h3IodKmTTUSicCftXGPMZqu4zOoiwfpZbpUXA76znQ+2yr7FGPNnY8wEY8yEYA/F6o4TJ06QkJDAmDFjyMrK+sErenSF3W4nLS2Nm266if79+3vn9Th37hynT58O2M0zbW1tHD9+nPLychobGykqKiIzM5P77ruPvLy8gNTpq6qqirq6Ou644w7GjBlDQ0NDwBYkFhGGDx9OamoqAwcOJCIigpaWFqqqqjhx4kTAhoCJCEVFRZw5c4bW1lby8vK4//77ufvuuzl06FBQxtrX1tbidDoZO3YsqampREREUFpaGpC6EhISmDhxIjfeeCMOh4PLly/T0NDAyZMnKSsrC2j//vnz5zl16hStra3s3LmT++67j8mTJ1NUVOTXGRpDqSujSgT4K3DMGLPKZ9dW4CFr+yFgi0/5Umt0SQZw8fv6t3u6+vp6+vTpg4jgcDgCuhKM56Ybp9PJv/71L9LS0sjMzGTYsGHs3r2bdevWBaTeBx98kPr6enJzc70rxNjtdhwOR1CWK2tubsZms2Gz2YiKigroTUOeNm5ra+Ott94iPT2dO++8k7vuuoszZ87wzjvvUF5efuV/qJumTp1Kv3792LNnD++99x5OpxOHw4Hdbqe5uTngd7QC3gnEoqKivHPGBGpBBM+9BLt27SI6Opq0tDSysrKIiopiw4YNAZuUKyMjg5SUFAoLC1m7di3l5eU4HA5iYmK8N65dC7rSVZIJLAEOichBq+w54PfABhFZBhQB/2bt2w7MAk4BDcDDfo04yOLj43E6nbhcLpxOZ8C+4oG7P72xsZGXXnqJSZMmMXHiRACysrIoKiri+eefZ9myZX49IzTGsGjRImw2m3d5Lbvd7p2wKhg3HNntdlpbW70JTEQC1m1grDtT165dy+XLl1m+fDl2u50RI0ZQV1fHqlWrKC0tZcCAAX6tMyMjg8mTJ3P8+HE2b96MzWajsrISh8NBXFxcUPpdPSsbNTY20tTURFtbm/fuW38zxnD48GE+/PBDHnnkEZKSkpg9ezY2m43t27eTn59PZmam3+tMS0sjPT2dc+fOsWbNGu/0D5GRkd5ZNK8FV0zcxpjPgM7+qn7cwfEGeOIq4+oxPBeN3nvvPfLz81myZEnA6mpqauIPf/gDlZWVJCQkcPr0acrLy2ltbeX48ePccccdfv8PXl9fz969ezHGcOjQIaZMmUJUVBTr16+nuLiYuXPn+rW+jiQkJDBo0CA+/PBDRITExMSAfUAaY8jLy2Pz5s0sXbqUo0ePEh0djdPp9K6O4++6W1paOHLkCNXV1Zw+fZo+ffqwZMkS1qxZQ79+/Zg0aVJQVqvp3bs3Q4YMYdeuXcTHx9OrV6+A3cnodDp57rnnmDp1KmVlZdjtds6cOYOI8OWXXzJpkv9HCLe1tXHs2DHKy8spKSnBbrezdOlScnNzSUlJuaYmMtNb3q9ARPj1r3/NZ599xowZMxg1alTAzo5cLhdpaWkMHz6c4uJiYmNjaWpqorS0lKSkJBYsWOD3OiMiIqipqaGhoYGcnByysrK47bbbyM/PZ+zYseTk5Pi9zvZEhAULFrBz504AMjMzO1yUwF/69+/PnDlzaGxspLy8nKSkJG/3yMKFC/0+2kFEuHz5sndExaxZs7wLPre0tDBlyhRsNptf6+wsjnvvvZddu3bR2NjoXYQhENra2rwTil24cIHExEQuXrxIfX09WVlZ/OhHPwpIvc3NzZSWlhITE8PixYtJTk7mgw8+oKGhgfnz5wfsG0awdXscdyDoOG6llPq27xvHfW10+Cil1HVEE7dSSoUZTdxKKRVmNHErpVSY0cStlFJhRhO3UkqFGU3cSikVZjRxK6VUmNHErZRSYUYTt1JKhRlN3EopFWY0cSulVJjRxK2UUmFGE7dSSoUZTdxKKRVmNHErpVSY0cStlFJhRhO3UkqFGU3cSikVZjRxK6VUmNHErZRSYUYTt1JKhRlN3EopFWY0cSulVJjRxK2UUmFGE7dSSoUZTdxKKRVmrpi4RSRFRHaKyFEROSIiv7TKfysixSJy0HrM8nnNsyJySkROiMiMQP4CSil1vYnswjGtwG+MMftFpDewT0Q+sva9bIx5yfdgEUkFFgGjgRuBj0VkpDGmzZ+BK6XU9eqKZ9zGmBJjzH5r+xJwDBj0PS+ZC6wzxjQZY84Ap4A7/RGsUkqpbvZxi8jNQDqwxyr6hYh8JSJviki8VTYIOOfzsvN0kOhFZLmIFIhIQUVFRbcDV0qp61WXE7eIOIBNwK+MMbXA68BwIA0oAf7YnYqNMX82xkwwxkxITEzszkuVUuq61qXELSJRuJN2rjFmM4AxpswY02aMcQF/4ZvukGIgxeflg60ypZRSftCVUSUC/BU4ZoxZ5VM+0OewecBha3srsEhEYkRkKHALsNd/ISul1PWtK6NKMoElwCEROWiVPQc8ICJpgAHOAo8CGGOOiMgG4CjuESlP6IgSpZTynysmbmPMZ4B0sGv797zmReDFq4hLKaVUJ/TOSaWUCjOauJVSKsxo4lZKqTCjiVsppcKMJm6llAozmriVUirMaOJWSqkwo4lbKaXCjCZupZQKM5q4lVIqzGjiVkqpMKOJWymlwowmbqWUCjOauJVSKsxo4lZKqTCjiVsppcKMJm6llAozmriVUirMaOJWSqkwo4lbKaXCjCZupZQKM5q4lVIqzGjiVkqpMCPGmFDHgIhUAPVAZahjaac/PS8m0Li6qyfG1RNjAo2ruwIZ1xBjTGJHO3pE4gYQkQJjzIRQx+GrJ8YEGld39cS4emJMoHF1V6ji0q4SpZQKM5q4lVIqzPSkxP3nUAfQgZ4YE2hc3dUT4+qJMYHG1V0hiavH9HErpZTqmp50xq2UUqoLQp64ReReETkhIqdEZGWIYzkrIodE5KCIFFhlCSLykYh8bf2MD0Icb4pIuYgc9inrMA5x+5PVfl+JyLggxvRbESm22uugiMzy2fesFdMJEZkRiJiselJEZKeIHBWRIyLyS6s81O3VWVwhazMRsYvIXhEptGJ6wSofKiJ7rLrXi0i0VR5jPT9l7b/Z3zFdIa6/icgZn7ZKs8qD8h76xGcTkQMiss16HtL2AsAYE7IHYAP+DxgGRAOFQGoI4zkL9G9X9l/ASmt7JfCHIMSRDYwDDl8pDmAW8AEgQAawJ4gx/RZ4soNjU633MgYYar3HtgDFNRAYZ233Bk5a9Ye6vTqLK2RtZv3ODms7CthjtcEGYJFVvhp4zNp+HFhtbS8C1georTqL62/Agg6OD8p76FPffwDvAtus5yFtL2NMyM+47wROGWNOG2OagXXA3BDH1N5c4O/W9t+B+wNdoTHmU6Cqi3HMBd4ybl8AN4jIwCDF1Jm5wDpjTJMx5gxwCvd77XfGmBJjzH5r+xJwDBhE6Nurs7g6E/A2s37nOutplPUwQA6w0Spv31aeNtwI/FhExJ8xXSGuzgTlPQQQkcHAbOB/rOdCiNsLQt9VMgg45/P8PN//xx1oBvhQRPaJyHKrLNkYU2JtlwLJoQmt0zhC3Ya/sL6uvunTjRSSmKyvpum4z9h6THu1iwtC2GbW1/6DQDnwEe4z+xpjTGsH9XpjsvZfBPr5O6aO4jLGeNrqRautXhaRmPZxdRCzv70CPA24rOf96AHtFerE3dNkGWPGATOBJ0Qk23encX8HCvkwnJ4SB/A6MBxIA0qAP4YqEBFxAJuAXxljan33hbK9OogrpG1mjGkzxqQBg3Gf0d8WzPo70z4uEbkdeBZ3fBOBBOCZYMYkInOAcmPMvmDW2xWhTtzFQIrP88FWWUgYY4qtn+XAe7j/sMs8X8Osn+UhCq+zOELWhsaYMus/nAv4C998tQ9qTCIShTs55hpjNlvFIW+vjuLqKW1mjKkBdgJ34e5qiOygXm9M1v6+gDNQMbWL616ru8kYY5qANQS/rTKB+0TkLO5u3BzgVXpAe4U6cX8J3GJdpY3G3aG/NRSBiEiciPT2bAPTgcNWPA9Zhz0EbAlFfN8Tx1ZgqXWlPQO46NNFEFDt+hXn4W4vT0yLrKvsQ4FbgL0BikGAvwLHjDGrfHaFtL06iyuUbSYiiSJyg7UdC9yDu+99J7DAOqx9W3nacAGww/r24ledxHXc54NXcPcj+7ZVwN9DY8yzxpjBxpibceemHcaYBwlxe3mCC+kD9xXik7j72p4PYRzDcF/VLwSOeGLB3UeVB3wNfAwkBCGWtbi/Rrfg7kNb1lkcuK+sv2a13yFgQhBjetuq8yvcf7QDfY5/3orpBDAzgG2Vhbsb5CvgoPWY1QPaq7O4QtZmwFjggFX3YeA/ff729+K+IPq/QIxVbreen7L2DwtQW3UW1w6rrQ4D7/DNyJOgvIftYpzKN6NKQtpexhi9c1IppcJNqLtKlFJKdZMmbqWUCjOauJVSKsxo4lZKqTCjiVsppcKMJm6llAozmriVUirMaOJWSqkw8//k7HSJ5xT8pAAAAABJRU5ErkJggg==\n",
                "text/plain": "<Figure size 432x288 with 1 Axes>"
              }
            ],
            "_view_module": "@jupyter-widgets/output",
            "_model_module_version": "1.0.0",
            "_view_count": null,
            "_view_module_version": "1.0.0",
            "layout": "IPY_MODEL_490bf940a4ae403da2a1817304893d56",
            "_model_module": "@jupyter-widgets/output"
          }
        },
        "a6b9eec0a7634d79a3d8ce5d963b24de": {
          "model_module": "@jupyter-widgets/controls",
          "model_name": "SliderStyleModel",
          "state": {
            "_view_name": "StyleView",
            "handle_color": null,
            "_model_name": "SliderStyleModel",
            "description_width": "",
            "_view_module": "@jupyter-widgets/base",
            "_model_module_version": "1.5.0",
            "_view_count": null,
            "_view_module_version": "1.2.0",
            "_model_module": "@jupyter-widgets/controls"
          }
        },
        "c6917821b9a740adb12179952780f94b": {
          "model_module": "@jupyter-widgets/base",
          "model_name": "LayoutModel",
          "state": {
            "_view_name": "LayoutView",
            "grid_template_rows": null,
            "right": null,
            "justify_content": null,
            "_view_module": "@jupyter-widgets/base",
            "overflow": null,
            "_model_module_version": "1.2.0",
            "_view_count": null,
            "flex_flow": null,
            "width": null,
            "min_width": null,
            "border": null,
            "align_items": null,
            "bottom": null,
            "_model_module": "@jupyter-widgets/base",
            "top": null,
            "grid_column": null,
            "overflow_y": null,
            "overflow_x": null,
            "grid_auto_flow": null,
            "grid_area": null,
            "grid_template_columns": null,
            "flex": null,
            "_model_name": "LayoutModel",
            "justify_items": null,
            "grid_row": null,
            "max_height": null,
            "align_content": null,
            "visibility": null,
            "align_self": null,
            "height": null,
            "min_height": null,
            "padding": null,
            "grid_auto_rows": null,
            "grid_gap": null,
            "max_width": null,
            "order": null,
            "_view_module_version": "1.2.0",
            "grid_template_areas": null,
            "object_position": null,
            "object_fit": null,
            "grid_auto_columns": null,
            "margin": null,
            "display": null,
            "left": null
          }
        },
        "490bf940a4ae403da2a1817304893d56": {
          "model_module": "@jupyter-widgets/base",
          "model_name": "LayoutModel",
          "state": {
            "_view_name": "LayoutView",
            "grid_template_rows": null,
            "right": null,
            "justify_content": null,
            "_view_module": "@jupyter-widgets/base",
            "overflow": null,
            "_model_module_version": "1.2.0",
            "_view_count": null,
            "flex_flow": null,
            "width": null,
            "min_width": null,
            "border": null,
            "align_items": null,
            "bottom": null,
            "_model_module": "@jupyter-widgets/base",
            "top": null,
            "grid_column": null,
            "overflow_y": null,
            "overflow_x": null,
            "grid_auto_flow": null,
            "grid_area": null,
            "grid_template_columns": null,
            "flex": null,
            "_model_name": "LayoutModel",
            "justify_items": null,
            "grid_row": null,
            "max_height": null,
            "align_content": null,
            "visibility": null,
            "align_self": null,
            "height": null,
            "min_height": null,
            "padding": null,
            "grid_auto_rows": null,
            "grid_gap": null,
            "max_width": null,
            "order": null,
            "_view_module_version": "1.2.0",
            "grid_template_areas": null,
            "object_position": null,
            "object_fit": null,
            "grid_auto_columns": null,
            "margin": null,
            "display": null,
            "left": null
          }
        }
      }
    }
  },
  "cells": [
    {
      "cell_type": "markdown",
      "metadata": {
        "id": "view-in-github",
        "colab_type": "text"
      },
      "source": [
        "<a href=\"https://colab.research.google.com/github/Vibertexs/B-A-Tutorials/blob/main/Lung_Segmentation.ipynb\" target=\"_parent\"><img src=\"https://colab.research.google.com/assets/colab-badge.svg\" alt=\"Open In Colab\"/></a>"
      ]
    },
    {
      "cell_type": "markdown",
      "metadata": {
        "id": "Ue_6TYzwNuf_"
      },
      "source": [
        "Website: https://vibertexkhan.wixsite.com/banda/post/lung-segmentation-using-u-net"
      ]
    },
    {
      "cell_type": "code",
      "metadata": {
        "id": "aJQDbxGJ1HsR"
      },
      "source": [
        "# Imports\n",
        "import matplotlib.pyplot as plt # To visualise the plots\n",
        "import os # Provides functions for interacting with the operating system.\n",
        "import numpy as np # Numpy \n",
        "from pathlib import Path # To work with the paths\n",
        "import tensorflow as tf # Tensorflow\n",
        "from tensorflow.keras.layers import Conv2D, concatenate, MaxPool2D, UpSampling2D # We'll use some of these later for our U-Net!\n",
        "from sklearn.model_selection import train_test_split # Train test split\n",
        "import gdown # To download the data\n",
        "from ipywidgets import interact, IntSlider # Allows you to interreact  with the code to visualise better"
      ],
      "execution_count": null,
      "outputs": []
    },
    {
      "cell_type": "code",
      "metadata": {
        "id": "PlGwB88C3miW"
      },
      "source": [
        "# Downloading Our data\n",
        "IMG_PATH = \"reduced/imgs\"\n",
        "MASK_PATH = \"reduced/masks\"\n",
        "EPOCHS = 40\n",
        "\n",
        "gdown.download(\"https://drive.google.com/uc?id=1_2UHVdkeuCHwwcb2RGs0cosNw8l_YoAE\", \"reduced.zip\", True)\n",
        "!unzip -oq reduced.zip"
      ],
      "execution_count": null,
      "outputs": []
    },
    {
      "cell_type": "code",
      "metadata": {
        "id": "zQXO9EIy2ioQ"
      },
      "source": [
        "# Helpful functions \n",
        "\n",
        "def load(): # Load in the data thats already been prepared to work with\n",
        "    imgs_paths = sorted([Path(IMG_PATH) / p for p in os.listdir(IMG_PATH)])\n",
        "    masks_paths = sorted([Path(MASK_PATH) / p for p in os.listdir(MASK_PATH)])\n",
        "    imgs = [plt.imread(p) for p in imgs_paths]\n",
        "    masks = [plt.imread(p)[:, :, 0][:, :, None] > 0.5 for p in masks_paths]\n",
        "    imgs, masks = np.array(imgs)[:,:,:,0:1], np.array(masks).astype(float)\n",
        "    imgs_train, imgs_test, masks_train, masks_test = train_test_split(\n",
        "        imgs, masks, test_size=0.2, shuffle=False\n",
        "    )\n",
        "    return imgs_train, imgs_test, masks_train, masks_test\n",
        "\n",
        "def show_lung_mask_sbs(lung, mask): # Show the lung and the mask\n",
        "    fig, (a1, a2) = plt.subplots(1, 2)\n",
        "    a1.imshow(lung.squeeze(), cmap = 'gray')\n",
        "    a2.imshow(mask.squeeze(), cmap = 'gray')\n",
        "    a1.set_title(\"lung\")\n",
        "    a2.set_title(\"mask\")\n",
        "\n",
        "\n",
        "def show_lung_mask_pred_sbs(lung, mask, pred): # Show the lung, mask, and the model output\n",
        "    fig, (a1, a2, a3) = plt.subplots(1, 3)\n",
        "    a1.imshow(lung.squeeze(), cmap = 'gray')\n",
        "    a2.imshow(mask.squeeze(), cmap = 'gray')\n",
        "    a3.imshow(pred.squeeze(), cmap = 'gray')\n",
        "    a1.set_title(\"lung\")\n",
        "    a2.set_title(\"mask\")\n",
        "    a3.set_title(\"predicted mask\")\n",
        "\n",
        "\n",
        "\n",
        "class ShowLearning(tf.keras.callbacks.Callback): # Call back function\n",
        "    def __init__(self, data, masks, name):\n",
        "        self.data = data\n",
        "        self.masks = masks\n",
        "        self.fig_path = f\"lung/figs/{name}\"\n",
        "        if not os.path.exists(self.fig_path):\n",
        "            os.makedirs(self.fig_path)\n",
        "        super().__init__()\n",
        "\n",
        "    def on_epoch_begin(self, epoch, logs=None):\n",
        "        rand_index = np.random.randint(0, len(self.data))\n",
        "        rand_img = self.data[rand_index][None, :, :, :]\n",
        "        mask = self.masks[rand_index][None, :, :, :]\n",
        "        preds = self.model(rand_img).numpy() > 0.5\n",
        "        show_lung_mask_pred_sbs(rand_img, mask, preds)\n",
        "        plt.savefig(f\"{self.fig_path}/epoch{epoch}.png\")\n",
        "        plt.close()\n",
        "\n",
        "def show_training_image(name, epoch): # Used to inter\n",
        "  im = plt.imread(f'lung/figs/{name}/epoch{epoch}.png')\n",
        "  plt.imshow(im)"
      ],
      "execution_count": null,
      "outputs": []
    },
    {
      "cell_type": "markdown",
      "metadata": {
        "id": "w5QLMTkzes_E"
      },
      "source": [
        "#Data Exploration"
      ]
    },
    {
      "cell_type": "code",
      "metadata": {
        "id": "K4fFbTCT3-EJ",
        "colab": {
          "base_uri": "https://localhost:8080/"
        },
        "outputId": "5e5d657a-eed8-4564-9a0d-3d52ff9787d0"
      },
      "source": [
        "imgs_train, imgs_test, masks_train, masks_test = load()\n",
        "print(imgs_train.shape, imgs_test.shape, masks_train.shape, masks_test.shape)"
      ],
      "execution_count": null,
      "outputs": [
        {
          "output_type": "stream",
          "text": [
            "(213, 64, 64, 1) (54, 64, 64, 1) (213, 64, 64, 1) (54, 64, 64, 1)\n"
          ],
          "name": "stdout"
        }
      ]
    },
    {
      "cell_type": "code",
      "metadata": {
        "id": "W5a3mNlo4yti",
        "colab": {
          "base_uri": "https://localhost:8080/",
          "height": 216
        },
        "outputId": "8faa1409-e475-44b1-d988-f5af3089123e"
      },
      "source": [
        "img_num = 20 # Pick any image from the training set\n",
        "show_lung_mask_sbs(imgs_train[img_num], masks_train[img_num])"
      ],
      "execution_count": null,
      "outputs": [
        {
          "output_type": "display_data",
          "data": {
            "image/png": "[encoded data removed]",
            "text/plain": [
              "<Figure size 432x288 with 2 Axes>"
            ]
          },
          "metadata": {
            "tags": [],
            "needs_background": "light"
          }
        }
      ]
    },
    {
      "cell_type": "markdown",
      "metadata": {
        "id": "e__-u5Mggk0z"
      },
      "source": [
        "# Convolutional Neural Networks"
      ]
    },
    {
      "cell_type": "code",
      "metadata": {
        "id": "CFXL0fWFSzkL"
      },
      "source": [
        "def SimpleConvModel():\n",
        "    model = tf.keras.models.Sequential(\n",
        "        [\n",
        "            Conv2D(filters = 16, kernel_size = 3, strides = 1, padding=\"same\", activation=\"relu\"),\n",
        "            Conv2D(filters = 32, kernel_size = 3, strides = 1, padding=\"same\", activation=\"relu\"),\n",
        "            Conv2D(filters = 16, kernel_size = 3, strides = 1, padding=\"same\", activation=\"relu\"),\n",
        "            Conv2D(filters = 1, kernel_size = 3, strides = 1, padding=\"same\", activation=\"sigmoid\"),\n",
        "        ]\n",
        "    )\n",
        "    return model\n",
        "\n",
        "model = SimpleConvModel()"
      ],
      "execution_count": null,
      "outputs": []
    },
    {
      "cell_type": "code",
      "metadata": {
        "id": "begYuiJfOYoq",
        "colab": {
          "base_uri": "https://localhost:8080/"
        },
        "outputId": "0bdf21f7-c9ed-4868-e2f0-dc11d4a9cd11"
      },
      "source": [
        "def train(model, imgs, masks, loss, name, epochs):\n",
        "    optimizer = tf.optimizers.Adam(learning_rate=0.0003)\n",
        "    model.compile(optimizer=optimizer, loss=loss, metrics=[\"accuracy\"])\n",
        "    model.fit(imgs, masks, epochs=epochs, callbacks=[ShowLearning(imgs, masks, name)],)\n",
        "    \n",
        "train(model, imgs_train, masks_train, tf.losses.BinaryCrossentropy(), 'simple_conv', EPOCHS)"
      ],
      "execution_count": null,
      "outputs": [
        {
          "output_type": "stream",
          "text": [
            "Epoch 1/40\n",
            "7/7 [==============================] - 31s 35ms/step - loss: 0.6897 - accuracy: 0.7068\n",
            "Epoch 2/40\n",
            "7/7 [==============================] - 0s 10ms/step - loss: 0.6821 - accuracy: 0.7655\n",
            "Epoch 3/40\n",
            "7/7 [==============================] - 0s 9ms/step - loss: 0.6704 - accuracy: 0.7652\n",
            "Epoch 4/40\n",
            "7/7 [==============================] - 0s 9ms/step - loss: 0.6510 - accuracy: 0.7660\n",
            "Epoch 5/40\n",
            "7/7 [==============================] - 0s 10ms/step - loss: 0.6220 - accuracy: 0.7662\n",
            "Epoch 6/40\n",
            "7/7 [==============================] - 0s 9ms/step - loss: 0.5864 - accuracy: 0.7662\n",
            "Epoch 7/40\n",
            "7/7 [==============================] - 0s 10ms/step - loss: 0.5562 - accuracy: 0.7662\n",
            "Epoch 8/40\n",
            "7/7 [==============================] - 0s 10ms/step - loss: 0.5457 - accuracy: 0.7662\n",
            "Epoch 9/40\n",
            "7/7 [==============================] - 0s 9ms/step - loss: 0.5455 - accuracy: 0.7662\n",
            "Epoch 10/40\n",
            "7/7 [==============================] - 0s 10ms/step - loss: 0.5410 - accuracy: 0.7662\n",
            "Epoch 11/40\n",
            "7/7 [==============================] - 0s 11ms/step - loss: 0.5377 - accuracy: 0.7662\n",
            "Epoch 12/40\n",
            "7/7 [==============================] - 0s 10ms/step - loss: 0.5350 - accuracy: 0.7662\n",
            "Epoch 13/40\n",
            "7/7 [==============================] - 0s 11ms/step - loss: 0.5314 - accuracy: 0.7662\n",
            "Epoch 14/40\n",
            "7/7 [==============================] - 0s 11ms/step - loss: 0.5278 - accuracy: 0.7662\n",
            "Epoch 15/40\n",
            "7/7 [==============================] - 0s 10ms/step - loss: 0.5238 - accuracy: 0.7662\n",
            "Epoch 16/40\n",
            "7/7 [==============================] - 0s 11ms/step - loss: 0.5195 - accuracy: 0.7662\n",
            "Epoch 17/40\n",
            "7/7 [==============================] - 0s 11ms/step - loss: 0.5149 - accuracy: 0.7668\n",
            "Epoch 18/40\n",
            "7/7 [==============================] - 0s 10ms/step - loss: 0.5103 - accuracy: 0.7681\n",
            "Epoch 19/40\n",
            "7/7 [==============================] - 0s 12ms/step - loss: 0.5057 - accuracy: 0.7711\n",
            "Epoch 20/40\n",
            "7/7 [==============================] - 0s 11ms/step - loss: 0.5011 - accuracy: 0.7734\n",
            "Epoch 21/40\n",
            "7/7 [==============================] - 0s 11ms/step - loss: 0.4967 - accuracy: 0.7767\n",
            "Epoch 22/40\n",
            "7/7 [==============================] - 0s 13ms/step - loss: 0.4927 - accuracy: 0.7806\n",
            "Epoch 23/40\n",
            "7/7 [==============================] - 0s 11ms/step - loss: 0.4894 - accuracy: 0.7813\n",
            "Epoch 24/40\n",
            "7/7 [==============================] - 0s 11ms/step - loss: 0.4859 - accuracy: 0.7875\n",
            "Epoch 25/40\n",
            "7/7 [==============================] - 0s 11ms/step - loss: 0.4824 - accuracy: 0.7863\n",
            "Epoch 26/40\n",
            "7/7 [==============================] - 0s 11ms/step - loss: 0.4789 - accuracy: 0.7907\n",
            "Epoch 27/40\n",
            "7/7 [==============================] - 0s 12ms/step - loss: 0.4760 - accuracy: 0.7907\n",
            "Epoch 28/40\n",
            "7/7 [==============================] - 0s 11ms/step - loss: 0.4729 - accuracy: 0.7944\n",
            "Epoch 29/40\n",
            "7/7 [==============================] - 0s 11ms/step - loss: 0.4697 - accuracy: 0.7941\n",
            "Epoch 30/40\n",
            "7/7 [==============================] - 0s 11ms/step - loss: 0.4668 - accuracy: 0.7971\n",
            "Epoch 31/40\n",
            "7/7 [==============================] - 0s 11ms/step - loss: 0.4635 - accuracy: 0.7986\n",
            "Epoch 32/40\n",
            "7/7 [==============================] - 0s 11ms/step - loss: 0.4601 - accuracy: 0.7984\n",
            "Epoch 33/40\n",
            "7/7 [==============================] - 0s 11ms/step - loss: 0.4570 - accuracy: 0.8020\n",
            "Epoch 34/40\n",
            "7/7 [==============================] - 0s 11ms/step - loss: 0.4539 - accuracy: 0.8018\n",
            "Epoch 35/40\n",
            "7/7 [==============================] - 0s 11ms/step - loss: 0.4503 - accuracy: 0.8037\n",
            "Epoch 36/40\n",
            "7/7 [==============================] - 0s 12ms/step - loss: 0.4469 - accuracy: 0.8054\n",
            "Epoch 37/40\n",
            "7/7 [==============================] - 0s 11ms/step - loss: 0.4436 - accuracy: 0.8067\n",
            "Epoch 38/40\n",
            "7/7 [==============================] - 0s 11ms/step - loss: 0.4403 - accuracy: 0.8088\n",
            "Epoch 39/40\n",
            "7/7 [==============================] - 0s 12ms/step - loss: 0.4368 - accuracy: 0.8085\n",
            "Epoch 40/40\n",
            "7/7 [==============================] - 0s 10ms/step - loss: 0.4346 - accuracy: 0.8117\n"
          ],
          "name": "stdout"
        }
      ]
    },
    {
      "cell_type": "markdown",
      "metadata": {
        "id": "0NIKs3IpRkFw"
      },
      "source": [
        "### Predicting Model Output Size"
      ]
    },
    {
      "cell_type": "code",
      "metadata": {
        "id": "MiQRiWThOjsV",
        "colab": {
          "base_uri": "https://localhost:8080/",
          "height": 301,
          "referenced_widgets": [
            "87d2fca20db34ca7b5c95cfb3708bf27",
            "b288d8cf958f4f66becdc5a1eddb3392",
            "90d72b11fdf14155a0ec0a2e8c28332e",
            "433acd92425546a6849b00b680918dd8",
            "23ff182e10d84aa8a13d58bab73ea14d",
            "4ac8ca955c1444e990998237b19dc74f",
            "f6087a99376b4eefb7e30688da4fc210"
          ]
        },
        "outputId": "5f87d3a3-ed46-49b5-82f3-12c822b61a30"
      },
      "source": [
        "interact(lambda epoch: show_training_image('simple_conv', epoch), epoch=(0, EPOCHS-1));"
      ],
      "execution_count": null,
      "outputs": [
        {
          "output_type": "display_data",
          "data": {
            "application/vnd.jupyter.widget-view+json": {
              "model_id": "87d2fca20db34ca7b5c95cfb3708bf27",
              "version_minor": 0,
              "version_major": 2
            },
            "text/plain": [
              "interactive(children=(IntSlider(value=19, description='epoch', max=39), Output()), _dom_classes=('widget-inter…"
            ]
          },
          "metadata": {
            "tags": []
          }
        }
      ]
    },
    {
      "cell_type": "code",
      "metadata": {
        "id": "A4UNPqQCT4UB",
        "colab": {
          "base_uri": "https://localhost:8080/"
        },
        "outputId": "88ab30be-4cce-4811-e8ce-7c971fdcdc21"
      },
      "source": [
        "print(masks_train.sum()/(masks_train.size)* 100)"
      ],
      "execution_count": null,
      "outputs": [
        {
          "output_type": "stream",
          "text": [
            "23.375605193661972\n"
          ],
          "name": "stdout"
        }
      ]
    },
    {
      "cell_type": "markdown",
      "metadata": {
        "id": "CSi8hG3eVXhF"
      },
      "source": [
        "##Dice\n"
      ]
    },
    {
      "cell_type": "code",
      "metadata": {
        "id": "c7PyZ4dvwVFg"
      },
      "source": [
        "def dice_loss(y_true, y_pred):\n",
        "    numerator = 2 * tf.reduce_sum(y_true * y_pred, axis=(1, 2, 3))\n",
        "    denominator = tf.reduce_sum(y_true + y_pred, axis=(1, 2, 3))\n",
        "    return 1 - numerator / denominator"
      ],
      "execution_count": null,
      "outputs": []
    },
    {
      "cell_type": "code",
      "metadata": {
        "id": "eSpaJDlWQpMa",
        "colab": {
          "base_uri": "https://localhost:8080/"
        },
        "outputId": "3e39e639-1504-4d90-a7cb-b6d181bcf094"
      },
      "source": [
        "model_with_dice = SimpleConvModel()\n",
        "train(model_with_dice, imgs_train, masks_train, dice_loss, 'simple_conv_with_dice', EPOCHS)"
      ],
      "execution_count": null,
      "outputs": [
        {
          "output_type": "stream",
          "text": [
            "Epoch 1/40\n",
            "7/7 [==============================] - 1s 12ms/step - loss: 0.6854 - accuracy: 0.3512\n",
            "Epoch 2/40\n",
            "7/7 [==============================] - 0s 11ms/step - loss: 0.6836 - accuracy: 0.3077\n",
            "Epoch 3/40\n",
            "7/7 [==============================] - 0s 12ms/step - loss: 0.6809 - accuracy: 0.3023\n",
            "Epoch 4/40\n",
            "7/7 [==============================] - 0s 12ms/step - loss: 0.6771 - accuracy: 0.2963\n",
            "Epoch 5/40\n",
            "7/7 [==============================] - 0s 11ms/step - loss: 0.6715 - accuracy: 0.2888\n",
            "Epoch 6/40\n",
            "7/7 [==============================] - 0s 11ms/step - loss: 0.6636 - accuracy: 0.2819\n",
            "Epoch 7/40\n",
            "7/7 [==============================] - 0s 11ms/step - loss: 0.6530 - accuracy: 0.2817\n",
            "Epoch 8/40\n",
            "7/7 [==============================] - 0s 10ms/step - loss: 0.6398 - accuracy: 0.2929\n",
            "Epoch 9/40\n",
            "7/7 [==============================] - 0s 11ms/step - loss: 0.6249 - accuracy: 0.3192\n",
            "Epoch 10/40\n",
            "7/7 [==============================] - 0s 13ms/step - loss: 0.6097 - accuracy: 0.3584\n",
            "Epoch 11/40\n",
            "7/7 [==============================] - 0s 11ms/step - loss: 0.5960 - accuracy: 0.3947\n",
            "Epoch 12/40\n",
            "7/7 [==============================] - 0s 11ms/step - loss: 0.5857 - accuracy: 0.4208\n",
            "Epoch 13/40\n",
            "7/7 [==============================] - 0s 12ms/step - loss: 0.5779 - accuracy: 0.4354\n",
            "Epoch 14/40\n",
            "7/7 [==============================] - 0s 11ms/step - loss: 0.5727 - accuracy: 0.4467\n",
            "Epoch 15/40\n",
            "7/7 [==============================] - 1s 12ms/step - loss: 0.5689 - accuracy: 0.4550\n",
            "Epoch 16/40\n",
            "7/7 [==============================] - 0s 11ms/step - loss: 0.5661 - accuracy: 0.4583\n",
            "Epoch 17/40\n",
            "7/7 [==============================] - 0s 12ms/step - loss: 0.5636 - accuracy: 0.4667\n",
            "Epoch 18/40\n",
            "7/7 [==============================] - 0s 11ms/step - loss: 0.5614 - accuracy: 0.4742\n",
            "Epoch 19/40\n",
            "7/7 [==============================] - 0s 11ms/step - loss: 0.5590 - accuracy: 0.4763\n",
            "Epoch 20/40\n",
            "7/7 [==============================] - 0s 11ms/step - loss: 0.5568 - accuracy: 0.4837\n",
            "Epoch 21/40\n",
            "7/7 [==============================] - 0s 11ms/step - loss: 0.5544 - accuracy: 0.4860\n",
            "Epoch 22/40\n",
            "7/7 [==============================] - 0s 11ms/step - loss: 0.5519 - accuracy: 0.4933\n",
            "Epoch 23/40\n",
            "7/7 [==============================] - 0s 11ms/step - loss: 0.5492 - accuracy: 0.5038\n",
            "Epoch 24/40\n",
            "7/7 [==============================] - 0s 11ms/step - loss: 0.5465 - accuracy: 0.5033\n",
            "Epoch 25/40\n",
            "7/7 [==============================] - 0s 12ms/step - loss: 0.5434 - accuracy: 0.5160\n",
            "Epoch 26/40\n",
            "7/7 [==============================] - 0s 11ms/step - loss: 0.5401 - accuracy: 0.5252\n",
            "Epoch 27/40\n",
            "7/7 [==============================] - 0s 11ms/step - loss: 0.5366 - accuracy: 0.5304\n",
            "Epoch 28/40\n",
            "7/7 [==============================] - 0s 11ms/step - loss: 0.5328 - accuracy: 0.5448\n",
            "Epoch 29/40\n",
            "7/7 [==============================] - 0s 11ms/step - loss: 0.5285 - accuracy: 0.5483\n",
            "Epoch 30/40\n",
            "7/7 [==============================] - 0s 11ms/step - loss: 0.5238 - accuracy: 0.5601\n",
            "Epoch 31/40\n",
            "7/7 [==============================] - 0s 12ms/step - loss: 0.5188 - accuracy: 0.5710\n",
            "Epoch 32/40\n",
            "7/7 [==============================] - 0s 11ms/step - loss: 0.5136 - accuracy: 0.5933\n",
            "Epoch 33/40\n",
            "7/7 [==============================] - 0s 12ms/step - loss: 0.5079 - accuracy: 0.6263\n",
            "Epoch 34/40\n",
            "7/7 [==============================] - 0s 11ms/step - loss: 0.5025 - accuracy: 0.6549\n",
            "Epoch 35/40\n",
            "7/7 [==============================] - 0s 11ms/step - loss: 0.4970 - accuracy: 0.6686\n",
            "Epoch 36/40\n",
            "7/7 [==============================] - 0s 12ms/step - loss: 0.4953 - accuracy: 0.6886\n",
            "Epoch 37/40\n",
            "7/7 [==============================] - 0s 11ms/step - loss: 0.4877 - accuracy: 0.7478\n",
            "Epoch 38/40\n",
            "7/7 [==============================] - 0s 11ms/step - loss: 0.4834 - accuracy: 0.7015\n",
            "Epoch 39/40\n",
            "7/7 [==============================] - 0s 11ms/step - loss: 0.4786 - accuracy: 0.7215\n",
            "Epoch 40/40\n",
            "7/7 [==============================] - 0s 11ms/step - loss: 0.4746 - accuracy: 0.7490\n"
          ],
          "name": "stdout"
        }
      ]
    },
    {
      "cell_type": "code",
      "metadata": {
        "id": "HRoHqgcoQpO8",
        "colab": {
          "base_uri": "https://localhost:8080/",
          "height": 301,
          "referenced_widgets": [
            "3c0f9edc3a91432cab8faf2f12030982",
            "32ba8dccbb534a1686a171dd06810584",
            "ab7e3729c1a24f43bc15f8fc7c5f705d",
            "e0b6d83e75b14838a7498d4ff31db8ba",
            "c880b692314346daa6118110dfaae77d",
            "41e8414fc3eb4c58a084b7447af64cdb",
            "f0361642ba85469d80fb9087bfb4f431"
          ]
        },
        "outputId": "7c57d5be-ebbd-498b-8b7e-eaec62db3ecd"
      },
      "source": [
        "interact(lambda epoch: show_training_image('simple_conv_with_dice', epoch), epoch=(0, EPOCHS-1));"
      ],
      "execution_count": null,
      "outputs": [
        {
          "output_type": "display_data",
          "data": {
            "application/vnd.jupyter.widget-view+json": {
              "model_id": "3c0f9edc3a91432cab8faf2f12030982",
              "version_minor": 0,
              "version_major": 2
            },
            "text/plain": [
              "interactive(children=(IntSlider(value=19, description='epoch', max=39), Output()), _dom_classes=('widget-inter…"
            ]
          },
          "metadata": {
            "tags": []
          }
        }
      ]
    },
    {
      "cell_type": "code",
      "metadata": {
        "id": "43smgnsyQpT8"
      },
      "source": [
        "def section(conv1_filters, conv2_filters): #Represents one horizontal \"section\" of the U\n",
        "    return tf.keras.Sequential(\n",
        "        [\n",
        "            Conv2D(conv1_filters, 3, padding=\"same\", activation=\"relu\"),\n",
        "            Conv2D(conv2_filters, 3, padding=\"same\", activation=\"relu\"),\n",
        "        ]\n",
        "    )\n",
        "\n",
        "class U_Net(tf.keras.Model):\n",
        "    def __init__(self):\n",
        "        super(U_Net, self).__init__()\n",
        "        self.section1 = section(16, 16)\n",
        "        self.section2 = section(32, 32)\n",
        "        self.section3 = section(32, 64) #Bottom of the U!\n",
        "        self.section4 = section(32, 32)\n",
        "        self.section5 = section(16, 16)\n",
        "        self.final_conv = Conv2D(1, 3, padding=\"same\", activation=\"sigmoid\")\n",
        "        self.maxpool1, self.maxpool2 = MaxPool2D(2), MaxPool2D(2) \n",
        "        self.upsample1, self.upsample2 = UpSampling2D(2), UpSampling2D(2)\n",
        "\n",
        "    def call(self, inputs):\n",
        "        input1 = self.section1(inputs)\n",
        "        input2 = self.section2(self.maxpool1(input1))\n",
        "        input3 = self.section3(self.maxpool2(input2))\n",
        "        input4 = self.section4(concatenate([input2, self.upsample1(input3)]))\n",
        "        input5 = self.section5(concatenate([input1, self.upsample2(input4)]))\n",
        "        output = self.final_conv(input5)\n",
        "        return output"
      ],
      "execution_count": null,
      "outputs": []
    },
    {
      "cell_type": "code",
      "metadata": {
        "id": "B24-_e9-QpXr"
      },
      "source": [
        "unet = U_Net()"
      ],
      "execution_count": null,
      "outputs": []
    },
    {
      "cell_type": "code",
      "metadata": {
        "id": "MeKfaYomYJY6",
        "colab": {
          "base_uri": "https://localhost:8080/"
        },
        "outputId": "12a66dd0-0b2b-4114-bb68-d4aea0e31f54"
      },
      "source": [
        "train(unet, imgs_train, masks_train, dice_loss, 'unet_with_dice', epochs=EPOCHS)"
      ],
      "execution_count": null,
      "outputs": [
        {
          "output_type": "stream",
          "text": [
            "Epoch 1/40\n",
            "7/7 [==============================] - 2s 60ms/step - loss: 0.6853 - accuracy: 0.3473\n",
            "Epoch 2/40\n",
            "7/7 [==============================] - 0s 20ms/step - loss: 0.6695 - accuracy: 0.2342\n",
            "Epoch 3/40\n",
            "7/7 [==============================] - 0s 20ms/step - loss: 0.6190 - accuracy: 0.2338\n",
            "Epoch 4/40\n",
            "7/7 [==============================] - 0s 20ms/step - loss: 0.6043 - accuracy: 0.2338\n",
            "Epoch 5/40\n",
            "7/7 [==============================] - 0s 19ms/step - loss: 0.5972 - accuracy: 0.2338\n",
            "Epoch 6/40\n",
            "7/7 [==============================] - 0s 20ms/step - loss: 0.5801 - accuracy: 0.2440\n",
            "Epoch 7/40\n",
            "7/7 [==============================] - 0s 23ms/step - loss: 0.5173 - accuracy: 0.6241\n",
            "Epoch 8/40\n",
            "7/7 [==============================] - 1s 22ms/step - loss: 0.4049 - accuracy: 0.8482\n",
            "Epoch 9/40\n",
            "7/7 [==============================] - 0s 20ms/step - loss: 0.3006 - accuracy: 0.8860\n",
            "Epoch 10/40\n",
            "7/7 [==============================] - 0s 20ms/step - loss: 0.2348 - accuracy: 0.9047\n",
            "Epoch 11/40\n",
            "7/7 [==============================] - 0s 20ms/step - loss: 0.2017 - accuracy: 0.9145\n",
            "Epoch 12/40\n",
            "7/7 [==============================] - 0s 21ms/step - loss: 0.1903 - accuracy: 0.9172\n",
            "Epoch 13/40\n",
            "7/7 [==============================] - 0s 19ms/step - loss: 0.1693 - accuracy: 0.9265\n",
            "Epoch 14/40\n",
            "7/7 [==============================] - 0s 21ms/step - loss: 0.1528 - accuracy: 0.9333\n",
            "Epoch 15/40\n",
            "7/7 [==============================] - 0s 20ms/step - loss: 0.1427 - accuracy: 0.9383\n",
            "Epoch 16/40\n",
            "7/7 [==============================] - 0s 19ms/step - loss: 0.1399 - accuracy: 0.9391\n",
            "Epoch 17/40\n",
            "7/7 [==============================] - 0s 20ms/step - loss: 0.1300 - accuracy: 0.9437\n",
            "Epoch 18/40\n",
            "7/7 [==============================] - 0s 21ms/step - loss: 0.1317 - accuracy: 0.9425\n",
            "Epoch 19/40\n",
            "7/7 [==============================] - 0s 20ms/step - loss: 0.1228 - accuracy: 0.9468\n",
            "Epoch 20/40\n",
            "7/7 [==============================] - 0s 21ms/step - loss: 0.1294 - accuracy: 0.9436\n",
            "Epoch 21/40\n",
            "7/7 [==============================] - 0s 20ms/step - loss: 0.1165 - accuracy: 0.9500\n",
            "Epoch 22/40\n",
            "7/7 [==============================] - 0s 20ms/step - loss: 0.1141 - accuracy: 0.9505\n",
            "Epoch 23/40\n",
            "7/7 [==============================] - 1s 21ms/step - loss: 0.1137 - accuracy: 0.9509\n",
            "Epoch 24/40\n",
            "7/7 [==============================] - 0s 21ms/step - loss: 0.1148 - accuracy: 0.9500\n",
            "Epoch 25/40\n",
            "7/7 [==============================] - 0s 21ms/step - loss: 0.1074 - accuracy: 0.9532\n",
            "Epoch 26/40\n",
            "7/7 [==============================] - 0s 20ms/step - loss: 0.1055 - accuracy: 0.9543\n",
            "Epoch 27/40\n",
            "7/7 [==============================] - 0s 21ms/step - loss: 0.1038 - accuracy: 0.9549\n",
            "Epoch 28/40\n",
            "7/7 [==============================] - 0s 21ms/step - loss: 0.1028 - accuracy: 0.9554\n",
            "Epoch 29/40\n",
            "7/7 [==============================] - 0s 21ms/step - loss: 0.1018 - accuracy: 0.9556\n",
            "Epoch 30/40\n",
            "7/7 [==============================] - 0s 20ms/step - loss: 0.0991 - accuracy: 0.9570\n",
            "Epoch 31/40\n",
            "7/7 [==============================] - 0s 20ms/step - loss: 0.1006 - accuracy: 0.9562\n",
            "Epoch 32/40\n",
            "7/7 [==============================] - 0s 21ms/step - loss: 0.0996 - accuracy: 0.9565\n",
            "Epoch 33/40\n",
            "7/7 [==============================] - 0s 20ms/step - loss: 0.1048 - accuracy: 0.9542\n",
            "Epoch 34/40\n",
            "7/7 [==============================] - 0s 22ms/step - loss: 0.0980 - accuracy: 0.9575\n",
            "Epoch 35/40\n",
            "7/7 [==============================] - 0s 20ms/step - loss: 0.0949 - accuracy: 0.9587\n",
            "Epoch 36/40\n",
            "7/7 [==============================] - 0s 20ms/step - loss: 0.0931 - accuracy: 0.9595\n",
            "Epoch 37/40\n",
            "7/7 [==============================] - 0s 20ms/step - loss: 0.0934 - accuracy: 0.9594\n",
            "Epoch 38/40\n",
            "7/7 [==============================] - 0s 21ms/step - loss: 0.0929 - accuracy: 0.9597\n",
            "Epoch 39/40\n",
            "7/7 [==============================] - 0s 20ms/step - loss: 0.0927 - accuracy: 0.9595\n",
            "Epoch 40/40\n",
            "7/7 [==============================] - 0s 21ms/step - loss: 0.0932 - accuracy: 0.9593\n"
          ],
          "name": "stdout"
        }
      ]
    },
    {
      "cell_type": "code",
      "metadata": {
        "id": "0Nm0Af71ShNQ",
        "colab": {
          "base_uri": "https://localhost:8080/",
          "height": 301,
          "referenced_widgets": [
            "182da9555d984911977f519c24e0eacd",
            "92327da0041e4c25aee6f9dca4bae2b6",
            "26e0fceeed1141b29a7245d5db670586",
            "bd15f664238b48888db56886e7f711b7",
            "a6b9eec0a7634d79a3d8ce5d963b24de",
            "c6917821b9a740adb12179952780f94b",
            "490bf940a4ae403da2a1817304893d56"
          ]
        },
        "outputId": "57436173-6898-446f-93ac-382ae46843a3"
      },
      "source": [
        "interact(lambda epoch: show_training_image('unet_with_dice', epoch), epoch=(0, EPOCHS-1));"
      ],
      "execution_count": null,
      "outputs": [
        {
          "output_type": "display_data",
          "data": {
            "application/vnd.jupyter.widget-view+json": {
              "model_id": "182da9555d984911977f519c24e0eacd",
              "version_minor": 0,
              "version_major": 2
            },
            "text/plain": [
              "interactive(children=(IntSlider(value=19, description='epoch', max=39), Output()), _dom_classes=('widget-inter…"
            ]
          },
          "metadata": {
            "tags": []
          }
        }
      ]
    }
  ]
}