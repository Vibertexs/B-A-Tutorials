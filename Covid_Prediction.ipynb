{
  "nbformat": 4,
  "nbformat_minor": 0,
  "metadata": {
    "colab": {
      "name": "Covid Prediction For GitHub.ipynb",
      "provenance": [],
      "collapsed_sections": [],
      "include_colab_link": true
    },
    "kernelspec": {
      "display_name": "Python 3",
      "language": "python",
      "name": "python3"
    },
    "language_info": {
      "codemirror_mode": {
        "name": "ipython",
        "version": 3
      },
      "file_extension": ".py",
      "mimetype": "text/x-python",
      "name": "python",
      "nbconvert_exporter": "python",
      "pygments_lexer": "ipython3",
      "version": "3.8.2"
    },
    "accelerator": "GPU"
  },
  "cells": [
    {
      "cell_type": "markdown",
      "metadata": {
        "id": "view-in-github",
        "colab_type": "text"
      },
      "source": [
        "<a href=\"https://colab.research.google.com/github/Vibertexs/B-A-Tutorials/blob/main/Covid_Prediction_For_GitHub.ipynb\" target=\"_parent\"><img src=\"https://colab.research.google.com/assets/colab-badge.svg\" alt=\"Open In Colab\"/></a>"
      ]
    },
    {
      "cell_type": "markdown",
      "metadata": {
        "id": "7qrPnxZuIgsw"
      },
      "source": [
        "# Predicting the rate of COVID-19 transmission\n",
        "\n",
        "In this notebook, we will build a machine learning model that will use hospitalization and infection data to predict the rate of COVID-19 transmission in the United States. If we can accurately predict future transmissions, we can help doctors and policymakers determine how to should allocate resources and craft interventions. In this notebook, we'll:\n",
        "\n",
        "\n",
        "1.   Explore our data\n",
        "2.   Use linear regression to predict future cases\n",
        "3.   Use neural networks to predict future cases\n",
        "\n",
        "![COVID map](https://upload.wikimedia.org/wikipedia/commons/f/f1/COVID-19_Prevalence_in_the_United_States_by_county.svg)\n",
        "\n"
      ]
    },
    {
      "cell_type": "code",
      "metadata": {
        "id": "cM4XvYNNJCYk",
        "colab": {
          "base_uri": "https://localhost:8080/"
        },
        "outputId": "4c20837e-60fb-4d4e-d21b-6d239c71b8f2"
      },
      "source": [
        "#@title Run this to prepare your data! { display-mode: \"form\" }\n",
        "\n",
        "# source of data: https://www.kaggle.com/roche-data-science-coalition/uncover?\n",
        "\n",
        "# Load the data!\n",
        "import os\n",
        "import numpy as np\n",
        "import pandas as pd\n",
        "import matplotlib.pyplot as plt\n",
        "import datetime\n",
        "from datetime import datetime, timedelta\n",
        "import sklearn\n",
        "from sklearn import metrics\n",
        "from sklearn.model_selection import train_test_split\n",
        "from sklearn import linear_model\n",
        "from sklearn.metrics import mean_squared_error\n",
        "import math\n",
        "from math import sqrt\n",
        "import random\n",
        "import scipy\n",
        "from scipy.interpolate import make_interp_spline\n",
        "\n",
        "# see all columns and rows\n",
        "pd.set_option(\"display.max_columns\", None)\n",
        "pd.set_option(\"display.max_rows\", 40)\n",
        "# set seed\n",
        "random.seed(1)\n",
        "\n",
        "import gdown \n",
        "gdown.download('https://drive.google.com/uc?id=1oK8AlCRFp4isBJQv-AZnC_zr-ZvrOOxd','covid-statistics-by-us-states-daily-updates.csv',True);\n",
        "\n",
        "raw_data = pd.read_csv('covid-statistics-by-us-states-daily-updates.csv')\n",
        "\n",
        "# turn date into datetime object\n",
        "raw_data[\"date\"] = pd.to_datetime(raw_data[\"date\"], format=\"%Y-%m-%d\")\n",
        "\n",
        "raw_data.set_index(\"date\", inplace = True, drop = False)\n",
        "\n",
        "state_df_list = []\n",
        "for name, df in raw_data.groupby(\"state\"):\n",
        "  tomorrow_data = df[['date','positiveincrease']]\n",
        "  tomorrow_data.columns = ['tomorrow_date', 'tomorrow_new_pos']\n",
        "  tomorrow_data['today_date'] = tomorrow_data.tomorrow_date - timedelta(days=1)\n",
        "  tomorrow_data.set_index(\"today_date\", inplace = True)\n",
        "  state_df = df.join(tomorrow_data, how = 'inner')\n",
        "  state_df_list.append(state_df)\n",
        "\n",
        "data = pd.concat(state_df_list)\n",
        "data.drop(['date','tomorrow_date'],axis=1,inplace=True)\n",
        "data = data[~data.totaltestresultsincrease.isna()]\n",
        "data = data[~data.total.isna()]\n",
        "data = data[~data.positive.isna()]\n",
        "data.negative = data.total - data.positive\n",
        "\n",
        "data.sort_index(inplace = True)"
      ],
      "execution_count": 1,
      "outputs": [
        {
          "output_type": "stream",
          "text": [
            "/usr/local/lib/python3.7/dist-packages/ipykernel_launcher.py:43: SettingWithCopyWarning: \n",
            "A value is trying to be set on a copy of a slice from a DataFrame.\n",
            "Try using .loc[row_indexer,col_indexer] = value instead\n",
            "\n",
            "See the caveats in the documentation: https://pandas.pydata.org/pandas-docs/stable/user_guide/indexing.html#returning-a-view-versus-a-copy\n"
          ],
          "name": "stderr"
        }
      ]
    },
    {
      "cell_type": "markdown",
      "metadata": {
        "id": "CT4OsDcMJEdN"
      },
      "source": [
        "## 1. Data exploration"
      ]
    },
    {
      "cell_type": "markdown",
      "metadata": {
        "id": "lu9exK8uIRKp"
      },
      "source": [
        "### Filtering our data"
      ]
    },
    {
      "cell_type": "markdown",
      "metadata": {
        "id": "YwLY8veEyT6m"
      },
      "source": [
        "Let's take a look at an example row from our data:"
      ]
    },
    {
      "cell_type": "code",
      "metadata": {
        "id": "1o-PBuZYyX5x",
        "colab": {
          "base_uri": "https://localhost:8080/",
          "height": 305
        },
        "outputId": "1913d4b6-701e-4b9c-e5e8-a0428c2acdba"
      },
      "source": [
        "data.head()"
      ],
      "execution_count": 2,
      "outputs": [
        {
          "output_type": "execute_result",
          "data": {
            "text/html": [
              "<div>\n",
              "<style scoped>\n",
              "    .dataframe tbody tr th:only-of-type {\n",
              "        vertical-align: middle;\n",
              "    }\n",
              "\n",
              "    .dataframe tbody tr th {\n",
              "        vertical-align: top;\n",
              "    }\n",
              "\n",
              "    .dataframe thead th {\n",
              "        text-align: right;\n",
              "    }\n",
              "</style>\n",
              "<table border=\"1\" class=\"dataframe\">\n",
              "  <thead>\n",
              "    <tr style=\"text-align: right;\">\n",
              "      <th></th>\n",
              "      <th>state</th>\n",
              "      <th>positive</th>\n",
              "      <th>negative</th>\n",
              "      <th>pending</th>\n",
              "      <th>hospitalizedcurrently</th>\n",
              "      <th>hospitalizedcumulative</th>\n",
              "      <th>inicucurrently</th>\n",
              "      <th>inicucumulative</th>\n",
              "      <th>onventilatorcurrently</th>\n",
              "      <th>onventilatorcumulative</th>\n",
              "      <th>recovered</th>\n",
              "      <th>hash</th>\n",
              "      <th>datechecked</th>\n",
              "      <th>death</th>\n",
              "      <th>hospitalized</th>\n",
              "      <th>total</th>\n",
              "      <th>totaltestresults</th>\n",
              "      <th>posneg</th>\n",
              "      <th>fips</th>\n",
              "      <th>deathincrease</th>\n",
              "      <th>hospitalizedincrease</th>\n",
              "      <th>negativeincrease</th>\n",
              "      <th>positiveincrease</th>\n",
              "      <th>totaltestresultsincrease</th>\n",
              "      <th>tomorrow_new_pos</th>\n",
              "    </tr>\n",
              "  </thead>\n",
              "  <tbody>\n",
              "    <tr>\n",
              "      <th>2020-01-23</th>\n",
              "      <td>WA</td>\n",
              "      <td>1.0</td>\n",
              "      <td>0.0</td>\n",
              "      <td>NaN</td>\n",
              "      <td>NaN</td>\n",
              "      <td>NaN</td>\n",
              "      <td>NaN</td>\n",
              "      <td>NaN</td>\n",
              "      <td>NaN</td>\n",
              "      <td>NaN</td>\n",
              "      <td>NaN</td>\n",
              "      <td>faa0d0b985f479eac50082e417dc84f9e645db8f</td>\n",
              "      <td>2020-01-23 21:00:00</td>\n",
              "      <td>NaN</td>\n",
              "      <td>NaN</td>\n",
              "      <td>1.0</td>\n",
              "      <td>1.0</td>\n",
              "      <td>1.0</td>\n",
              "      <td>53</td>\n",
              "      <td>0.0</td>\n",
              "      <td>0.0</td>\n",
              "      <td>0.0</td>\n",
              "      <td>0.0</td>\n",
              "      <td>0.0</td>\n",
              "      <td>0.0</td>\n",
              "    </tr>\n",
              "    <tr>\n",
              "      <th>2020-01-24</th>\n",
              "      <td>WA</td>\n",
              "      <td>1.0</td>\n",
              "      <td>0.0</td>\n",
              "      <td>NaN</td>\n",
              "      <td>NaN</td>\n",
              "      <td>NaN</td>\n",
              "      <td>NaN</td>\n",
              "      <td>NaN</td>\n",
              "      <td>NaN</td>\n",
              "      <td>NaN</td>\n",
              "      <td>NaN</td>\n",
              "      <td>4763cdf13300976ba41317d7c7767e1c558a1134</td>\n",
              "      <td>2020-01-24 21:00:00</td>\n",
              "      <td>NaN</td>\n",
              "      <td>NaN</td>\n",
              "      <td>1.0</td>\n",
              "      <td>1.0</td>\n",
              "      <td>1.0</td>\n",
              "      <td>53</td>\n",
              "      <td>0.0</td>\n",
              "      <td>0.0</td>\n",
              "      <td>0.0</td>\n",
              "      <td>0.0</td>\n",
              "      <td>0.0</td>\n",
              "      <td>0.0</td>\n",
              "    </tr>\n",
              "    <tr>\n",
              "      <th>2020-01-25</th>\n",
              "      <td>WA</td>\n",
              "      <td>1.0</td>\n",
              "      <td>0.0</td>\n",
              "      <td>NaN</td>\n",
              "      <td>NaN</td>\n",
              "      <td>NaN</td>\n",
              "      <td>NaN</td>\n",
              "      <td>NaN</td>\n",
              "      <td>NaN</td>\n",
              "      <td>NaN</td>\n",
              "      <td>NaN</td>\n",
              "      <td>f17fc4cde1b2e7b57e946752d620e48d7f02c7ce</td>\n",
              "      <td>2020-01-25 21:00:00</td>\n",
              "      <td>NaN</td>\n",
              "      <td>NaN</td>\n",
              "      <td>1.0</td>\n",
              "      <td>1.0</td>\n",
              "      <td>1.0</td>\n",
              "      <td>53</td>\n",
              "      <td>0.0</td>\n",
              "      <td>0.0</td>\n",
              "      <td>0.0</td>\n",
              "      <td>0.0</td>\n",
              "      <td>0.0</td>\n",
              "      <td>0.0</td>\n",
              "    </tr>\n",
              "    <tr>\n",
              "      <th>2020-01-26</th>\n",
              "      <td>WA</td>\n",
              "      <td>1.0</td>\n",
              "      <td>0.0</td>\n",
              "      <td>NaN</td>\n",
              "      <td>NaN</td>\n",
              "      <td>NaN</td>\n",
              "      <td>NaN</td>\n",
              "      <td>NaN</td>\n",
              "      <td>NaN</td>\n",
              "      <td>NaN</td>\n",
              "      <td>NaN</td>\n",
              "      <td>405aae8b4155c77878ab1e2a85f32d7bb7a45c9a</td>\n",
              "      <td>2020-01-26 21:00:00</td>\n",
              "      <td>NaN</td>\n",
              "      <td>NaN</td>\n",
              "      <td>1.0</td>\n",
              "      <td>1.0</td>\n",
              "      <td>1.0</td>\n",
              "      <td>53</td>\n",
              "      <td>0.0</td>\n",
              "      <td>0.0</td>\n",
              "      <td>0.0</td>\n",
              "      <td>0.0</td>\n",
              "      <td>0.0</td>\n",
              "      <td>0.0</td>\n",
              "    </tr>\n",
              "    <tr>\n",
              "      <th>2020-01-27</th>\n",
              "      <td>WA</td>\n",
              "      <td>1.0</td>\n",
              "      <td>0.0</td>\n",
              "      <td>NaN</td>\n",
              "      <td>NaN</td>\n",
              "      <td>NaN</td>\n",
              "      <td>NaN</td>\n",
              "      <td>NaN</td>\n",
              "      <td>NaN</td>\n",
              "      <td>NaN</td>\n",
              "      <td>NaN</td>\n",
              "      <td>15d0ad948df84d87c31ab25a4091a1980670fedd</td>\n",
              "      <td>2020-01-27 21:00:00</td>\n",
              "      <td>NaN</td>\n",
              "      <td>NaN</td>\n",
              "      <td>1.0</td>\n",
              "      <td>1.0</td>\n",
              "      <td>1.0</td>\n",
              "      <td>53</td>\n",
              "      <td>0.0</td>\n",
              "      <td>0.0</td>\n",
              "      <td>0.0</td>\n",
              "      <td>0.0</td>\n",
              "      <td>0.0</td>\n",
              "      <td>0.0</td>\n",
              "    </tr>\n",
              "  </tbody>\n",
              "</table>\n",
              "</div>"
            ],
            "text/plain": [
              "           state  positive  negative  pending  hospitalizedcurrently  \\\n",
              "2020-01-23    WA       1.0       0.0      NaN                    NaN   \n",
              "2020-01-24    WA       1.0       0.0      NaN                    NaN   \n",
              "2020-01-25    WA       1.0       0.0      NaN                    NaN   \n",
              "2020-01-26    WA       1.0       0.0      NaN                    NaN   \n",
              "2020-01-27    WA       1.0       0.0      NaN                    NaN   \n",
              "\n",
              "            hospitalizedcumulative  inicucurrently  inicucumulative  \\\n",
              "2020-01-23                     NaN             NaN              NaN   \n",
              "2020-01-24                     NaN             NaN              NaN   \n",
              "2020-01-25                     NaN             NaN              NaN   \n",
              "2020-01-26                     NaN             NaN              NaN   \n",
              "2020-01-27                     NaN             NaN              NaN   \n",
              "\n",
              "            onventilatorcurrently  onventilatorcumulative  recovered  \\\n",
              "2020-01-23                    NaN                     NaN        NaN   \n",
              "2020-01-24                    NaN                     NaN        NaN   \n",
              "2020-01-25                    NaN                     NaN        NaN   \n",
              "2020-01-26                    NaN                     NaN        NaN   \n",
              "2020-01-27                    NaN                     NaN        NaN   \n",
              "\n",
              "                                                hash          datechecked  \\\n",
              "2020-01-23  faa0d0b985f479eac50082e417dc84f9e645db8f  2020-01-23 21:00:00   \n",
              "2020-01-24  4763cdf13300976ba41317d7c7767e1c558a1134  2020-01-24 21:00:00   \n",
              "2020-01-25  f17fc4cde1b2e7b57e946752d620e48d7f02c7ce  2020-01-25 21:00:00   \n",
              "2020-01-26  405aae8b4155c77878ab1e2a85f32d7bb7a45c9a  2020-01-26 21:00:00   \n",
              "2020-01-27  15d0ad948df84d87c31ab25a4091a1980670fedd  2020-01-27 21:00:00   \n",
              "\n",
              "            death  hospitalized  total  totaltestresults  posneg  fips  \\\n",
              "2020-01-23    NaN           NaN    1.0               1.0     1.0    53   \n",
              "2020-01-24    NaN           NaN    1.0               1.0     1.0    53   \n",
              "2020-01-25    NaN           NaN    1.0               1.0     1.0    53   \n",
              "2020-01-26    NaN           NaN    1.0               1.0     1.0    53   \n",
              "2020-01-27    NaN           NaN    1.0               1.0     1.0    53   \n",
              "\n",
              "            deathincrease  hospitalizedincrease  negativeincrease  \\\n",
              "2020-01-23            0.0                   0.0               0.0   \n",
              "2020-01-24            0.0                   0.0               0.0   \n",
              "2020-01-25            0.0                   0.0               0.0   \n",
              "2020-01-26            0.0                   0.0               0.0   \n",
              "2020-01-27            0.0                   0.0               0.0   \n",
              "\n",
              "            positiveincrease  totaltestresultsincrease  tomorrow_new_pos  \n",
              "2020-01-23               0.0                       0.0               0.0  \n",
              "2020-01-24               0.0                       0.0               0.0  \n",
              "2020-01-25               0.0                       0.0               0.0  \n",
              "2020-01-26               0.0                       0.0               0.0  \n",
              "2020-01-27               0.0                       0.0               0.0  "
            ]
          },
          "metadata": {
            "tags": []
          },
          "execution_count": 2
        }
      ]
    },
    {
      "cell_type": "markdown",
      "metadata": {
        "id": "1bl3ypxhGVTz"
      },
      "source": [
        "We only care about data that will help us predict rates of COVID-19. Right now, our data contains many unnecessary columns of information -- let's filter out unnecessary data.\n",
        "\n",
        "We'll use each day's data to try to predict the number of positive test results the next day.\n",
        "\n",
        "We want to include only the following columns: \n",
        "\n",
        "1. **\"Date\"**: the date for this row. This is already done for you - it's the index of the dataset - so you don't need to get this column)\n",
        "2. **\"State\"**: the state that we're collecting COVID information about.\n",
        "3. **\"Positive\"**: the total number of people who've tested positive for COVID up to today.\n",
        "4. **\"Negative\"**:  the total number of people who've tested negative for COVID up to today.\n",
        "5. **\"Total\"**: The total number of tests done up to today\n",
        "6. **\"Hospitalizedincrease\"**: number of additional people who were hospitalized for conditions relating to COVID-19, compared to yesterday\n",
        "7. **\"Negativeincrease\"**: Number of new negative tests today\n",
        "8. **\"Positiveincrease\"**: Number of new positive tests today\n",
        "9. **\"Totaltestresultsincrease\"**: Total number of new tests today\n",
        "10. **\"tomorrow_new_pos\"**: Number of new positive results the next day. This is what we'll try to predict!\n",
        "\n",
        "**NOTE**: The date column is automatically included in your data, so you don't need to worry about that column.\n"
      ]
    },
    {
      "cell_type": "code",
      "metadata": {
        "colab": {
          "base_uri": "https://localhost:8080/"
        },
        "id": "os97ilvvERxG",
        "outputId": "3044c943-26ba-4e64-e1bb-a05c3a943730"
      },
      "source": [
        "data.columns"
      ],
      "execution_count": 3,
      "outputs": [
        {
          "output_type": "execute_result",
          "data": {
            "text/plain": [
              "Index(['state', 'positive', 'negative', 'pending', 'hospitalizedcurrently',\n",
              "       'hospitalizedcumulative', 'inicucurrently', 'inicucumulative',\n",
              "       'onventilatorcurrently', 'onventilatorcumulative', 'recovered', 'hash',\n",
              "       'datechecked', 'death', 'hospitalized', 'total', 'totaltestresults',\n",
              "       'posneg', 'fips', 'deathincrease', 'hospitalizedincrease',\n",
              "       'negativeincrease', 'positiveincrease', 'totaltestresultsincrease',\n",
              "       'tomorrow_new_pos'],\n",
              "      dtype='object')"
            ]
          },
          "metadata": {
            "tags": []
          },
          "execution_count": 3
        }
      ]
    },
    {
      "cell_type": "code",
      "metadata": {
        "id": "-lT9K4MYIY8J"
      },
      "source": [
        "\n",
        "data = data[[\"state\", \"positive\", \"negative\",\n",
        "             \"total\", \"hospitalizedincrease\",\n",
        "             \"negativeincrease\", \"positiveincrease\",\n",
        "             \"tomorrow_new_pos\"]]\n",
        "\n"
      ],
      "execution_count": 4,
      "outputs": []
    },
    {
      "cell_type": "markdown",
      "metadata": {
        "id": "6Ej65gnxP1tE"
      },
      "source": [
        "### Visualizing our data"
      ]
    },
    {
      "cell_type": "markdown",
      "metadata": {
        "id": "vvQNLXbsP6YI"
      },
      "source": [
        "Before we create our model, we need to understand our dataset and how we can use the data to answer our question. Let's take a look at our dataset!"
      ]
    },
    {
      "cell_type": "code",
      "metadata": {
        "id": "MTNh16XUaNIF",
        "colab": {
          "base_uri": "https://localhost:8080/",
          "height": 508
        },
        "outputId": "02188530-905f-4715-ae60-0d36295e1ce6"
      },
      "source": [
        "data.head(15)"
      ],
      "execution_count": 5,
      "outputs": [
        {
          "output_type": "execute_result",
          "data": {
            "text/html": [
              "<div>\n",
              "<style scoped>\n",
              "    .dataframe tbody tr th:only-of-type {\n",
              "        vertical-align: middle;\n",
              "    }\n",
              "\n",
              "    .dataframe tbody tr th {\n",
              "        vertical-align: top;\n",
              "    }\n",
              "\n",
              "    .dataframe thead th {\n",
              "        text-align: right;\n",
              "    }\n",
              "</style>\n",
              "<table border=\"1\" class=\"dataframe\">\n",
              "  <thead>\n",
              "    <tr style=\"text-align: right;\">\n",
              "      <th></th>\n",
              "      <th>state</th>\n",
              "      <th>positive</th>\n",
              "      <th>negative</th>\n",
              "      <th>total</th>\n",
              "      <th>hospitalizedincrease</th>\n",
              "      <th>negativeincrease</th>\n",
              "      <th>positiveincrease</th>\n",
              "      <th>tomorrow_new_pos</th>\n",
              "    </tr>\n",
              "  </thead>\n",
              "  <tbody>\n",
              "    <tr>\n",
              "      <th>2020-01-23</th>\n",
              "      <td>WA</td>\n",
              "      <td>1.0</td>\n",
              "      <td>0.0</td>\n",
              "      <td>1.0</td>\n",
              "      <td>0.0</td>\n",
              "      <td>0.0</td>\n",
              "      <td>0.0</td>\n",
              "      <td>0.0</td>\n",
              "    </tr>\n",
              "    <tr>\n",
              "      <th>2020-01-24</th>\n",
              "      <td>WA</td>\n",
              "      <td>1.0</td>\n",
              "      <td>0.0</td>\n",
              "      <td>1.0</td>\n",
              "      <td>0.0</td>\n",
              "      <td>0.0</td>\n",
              "      <td>0.0</td>\n",
              "      <td>0.0</td>\n",
              "    </tr>\n",
              "    <tr>\n",
              "      <th>2020-01-25</th>\n",
              "      <td>WA</td>\n",
              "      <td>1.0</td>\n",
              "      <td>0.0</td>\n",
              "      <td>1.0</td>\n",
              "      <td>0.0</td>\n",
              "      <td>0.0</td>\n",
              "      <td>0.0</td>\n",
              "      <td>0.0</td>\n",
              "    </tr>\n",
              "    <tr>\n",
              "      <th>2020-01-26</th>\n",
              "      <td>WA</td>\n",
              "      <td>1.0</td>\n",
              "      <td>0.0</td>\n",
              "      <td>1.0</td>\n",
              "      <td>0.0</td>\n",
              "      <td>0.0</td>\n",
              "      <td>0.0</td>\n",
              "      <td>0.0</td>\n",
              "    </tr>\n",
              "    <tr>\n",
              "      <th>2020-01-27</th>\n",
              "      <td>WA</td>\n",
              "      <td>1.0</td>\n",
              "      <td>0.0</td>\n",
              "      <td>1.0</td>\n",
              "      <td>0.0</td>\n",
              "      <td>0.0</td>\n",
              "      <td>0.0</td>\n",
              "      <td>0.0</td>\n",
              "    </tr>\n",
              "    <tr>\n",
              "      <th>2020-01-28</th>\n",
              "      <td>WA</td>\n",
              "      <td>1.0</td>\n",
              "      <td>0.0</td>\n",
              "      <td>1.0</td>\n",
              "      <td>0.0</td>\n",
              "      <td>0.0</td>\n",
              "      <td>0.0</td>\n",
              "      <td>0.0</td>\n",
              "    </tr>\n",
              "    <tr>\n",
              "      <th>2020-01-29</th>\n",
              "      <td>WA</td>\n",
              "      <td>1.0</td>\n",
              "      <td>0.0</td>\n",
              "      <td>1.0</td>\n",
              "      <td>0.0</td>\n",
              "      <td>0.0</td>\n",
              "      <td>0.0</td>\n",
              "      <td>0.0</td>\n",
              "    </tr>\n",
              "    <tr>\n",
              "      <th>2020-01-30</th>\n",
              "      <td>WA</td>\n",
              "      <td>1.0</td>\n",
              "      <td>0.0</td>\n",
              "      <td>1.0</td>\n",
              "      <td>0.0</td>\n",
              "      <td>0.0</td>\n",
              "      <td>0.0</td>\n",
              "      <td>0.0</td>\n",
              "    </tr>\n",
              "    <tr>\n",
              "      <th>2020-01-31</th>\n",
              "      <td>WA</td>\n",
              "      <td>1.0</td>\n",
              "      <td>0.0</td>\n",
              "      <td>1.0</td>\n",
              "      <td>0.0</td>\n",
              "      <td>0.0</td>\n",
              "      <td>0.0</td>\n",
              "      <td>0.0</td>\n",
              "    </tr>\n",
              "    <tr>\n",
              "      <th>2020-02-01</th>\n",
              "      <td>WA</td>\n",
              "      <td>1.0</td>\n",
              "      <td>0.0</td>\n",
              "      <td>1.0</td>\n",
              "      <td>0.0</td>\n",
              "      <td>0.0</td>\n",
              "      <td>0.0</td>\n",
              "      <td>0.0</td>\n",
              "    </tr>\n",
              "    <tr>\n",
              "      <th>2020-02-02</th>\n",
              "      <td>WA</td>\n",
              "      <td>1.0</td>\n",
              "      <td>0.0</td>\n",
              "      <td>1.0</td>\n",
              "      <td>0.0</td>\n",
              "      <td>0.0</td>\n",
              "      <td>0.0</td>\n",
              "      <td>0.0</td>\n",
              "    </tr>\n",
              "    <tr>\n",
              "      <th>2020-02-03</th>\n",
              "      <td>WA</td>\n",
              "      <td>1.0</td>\n",
              "      <td>0.0</td>\n",
              "      <td>1.0</td>\n",
              "      <td>0.0</td>\n",
              "      <td>0.0</td>\n",
              "      <td>0.0</td>\n",
              "      <td>0.0</td>\n",
              "    </tr>\n",
              "    <tr>\n",
              "      <th>2020-02-04</th>\n",
              "      <td>WA</td>\n",
              "      <td>1.0</td>\n",
              "      <td>0.0</td>\n",
              "      <td>1.0</td>\n",
              "      <td>0.0</td>\n",
              "      <td>0.0</td>\n",
              "      <td>0.0</td>\n",
              "      <td>0.0</td>\n",
              "    </tr>\n",
              "    <tr>\n",
              "      <th>2020-02-05</th>\n",
              "      <td>WA</td>\n",
              "      <td>1.0</td>\n",
              "      <td>0.0</td>\n",
              "      <td>1.0</td>\n",
              "      <td>0.0</td>\n",
              "      <td>0.0</td>\n",
              "      <td>0.0</td>\n",
              "      <td>0.0</td>\n",
              "    </tr>\n",
              "    <tr>\n",
              "      <th>2020-02-06</th>\n",
              "      <td>WA</td>\n",
              "      <td>1.0</td>\n",
              "      <td>0.0</td>\n",
              "      <td>1.0</td>\n",
              "      <td>0.0</td>\n",
              "      <td>0.0</td>\n",
              "      <td>0.0</td>\n",
              "      <td>1.0</td>\n",
              "    </tr>\n",
              "  </tbody>\n",
              "</table>\n",
              "</div>"
            ],
            "text/plain": [
              "           state  positive  negative  total  hospitalizedincrease  \\\n",
              "2020-01-23    WA       1.0       0.0    1.0                   0.0   \n",
              "2020-01-24    WA       1.0       0.0    1.0                   0.0   \n",
              "2020-01-25    WA       1.0       0.0    1.0                   0.0   \n",
              "2020-01-26    WA       1.0       0.0    1.0                   0.0   \n",
              "2020-01-27    WA       1.0       0.0    1.0                   0.0   \n",
              "2020-01-28    WA       1.0       0.0    1.0                   0.0   \n",
              "2020-01-29    WA       1.0       0.0    1.0                   0.0   \n",
              "2020-01-30    WA       1.0       0.0    1.0                   0.0   \n",
              "2020-01-31    WA       1.0       0.0    1.0                   0.0   \n",
              "2020-02-01    WA       1.0       0.0    1.0                   0.0   \n",
              "2020-02-02    WA       1.0       0.0    1.0                   0.0   \n",
              "2020-02-03    WA       1.0       0.0    1.0                   0.0   \n",
              "2020-02-04    WA       1.0       0.0    1.0                   0.0   \n",
              "2020-02-05    WA       1.0       0.0    1.0                   0.0   \n",
              "2020-02-06    WA       1.0       0.0    1.0                   0.0   \n",
              "\n",
              "            negativeincrease  positiveincrease  tomorrow_new_pos  \n",
              "2020-01-23               0.0               0.0               0.0  \n",
              "2020-01-24               0.0               0.0               0.0  \n",
              "2020-01-25               0.0               0.0               0.0  \n",
              "2020-01-26               0.0               0.0               0.0  \n",
              "2020-01-27               0.0               0.0               0.0  \n",
              "2020-01-28               0.0               0.0               0.0  \n",
              "2020-01-29               0.0               0.0               0.0  \n",
              "2020-01-30               0.0               0.0               0.0  \n",
              "2020-01-31               0.0               0.0               0.0  \n",
              "2020-02-01               0.0               0.0               0.0  \n",
              "2020-02-02               0.0               0.0               0.0  \n",
              "2020-02-03               0.0               0.0               0.0  \n",
              "2020-02-04               0.0               0.0               0.0  \n",
              "2020-02-05               0.0               0.0               0.0  \n",
              "2020-02-06               0.0               0.0               1.0  "
            ]
          },
          "metadata": {
            "tags": []
          },
          "execution_count": 5
        }
      ]
    },
    {
      "cell_type": "markdown",
      "metadata": {
        "id": "opcTSVUZaSdY"
      },
      "source": [
        "Try printing the number of **rows** and the number of **columns** in the dataset."
      ]
    },
    {
      "cell_type": "code",
      "metadata": {
        "id": "kXh58IFxRuPO",
        "colab": {
          "base_uri": "https://localhost:8080/"
        },
        "outputId": "f5c47e7c-aae2-4922-8f75-3e67c344f16e"
      },
      "source": [
        "num_rows = data.shape[0]\n",
        "num_columns = data.shape[1]\n",
        "\n",
        "print (num_rows, \"rows\")\n",
        "print (num_columns, \"columns\")"
      ],
      "execution_count": 6,
      "outputs": [
        {
          "output_type": "stream",
          "text": [
            "2915 rows\n",
            "8 columns\n"
          ],
          "name": "stdout"
        }
      ]
    },
    {
      "cell_type": "markdown",
      "metadata": {
        "id": "OF_egosjJhNq"
      },
      "source": [
        "Our overall goal is to create a model that can predict the number of new positive COVID-19 cases the next day. A good first step is to see how many positive COVID-19 cases each state has been having so far.\n"
      ]
    },
    {
      "cell_type": "code",
      "metadata": {
        "id": "FLAfZo6JQ7r4",
        "colab": {
          "base_uri": "https://localhost:8080/",
          "height": 591
        },
        "outputId": "ffb60258-35f4-45a9-b74a-b21f665bd1fe"
      },
      "source": [
        "#@title ### Type in a state's two-letter abbreviation (e.g. CA for California) to see a graph of that state's positive COVID-19 cases over time. Try comparing the data for a few states!\n",
        "\n",
        "# get state\n",
        "state = \"de\" #@param {type:\"string\"}\n",
        "\n",
        "# get uppercase version\n",
        "state=state.upper()\n",
        "\n",
        "# get states\n",
        "states = set(data[\"state\"])\n",
        "\n",
        "# check to see if entry is in the state\n",
        "if state not in states:\n",
        "    raise ValueError(\"Abbreviation isn't a state. Please try again\")\n",
        "print(f\"You've chosen to see the data for the state of {state}\")\n",
        "\n",
        "\n",
        "# check out graphs of positive cases, by week\n",
        "new_data=data[data[\"state\"] == state]\n",
        "new_data.index = (new_data.index - datetime(2020, 1, 1)).days\n",
        "\n",
        "plt.plot(new_data.index, new_data.tomorrow_new_pos)\n",
        "plt.title(f\"New positive cases each day for {state}\")\n",
        "plt.ylabel(\"Number of new positive cases\")\n",
        "plt.xlabel(\"Day of the year\")\n",
        "plt.xlim(22, 118)\n",
        "plt.show()\n",
        "\n",
        "plt.plot(new_data.index, new_data.positive)\n",
        "plt.title(f\"Total number of positive cases for the state of {state}\")\n",
        "plt.ylabel(\"Number of total positive cases\")\n",
        "plt.xlabel(\"Day of the year\")\n",
        "plt.xlim(22, 118)\n",
        "plt.show()"
      ],
      "execution_count": 7,
      "outputs": [
        {
          "output_type": "stream",
          "text": [
            "You've chosen to see the data for the state of DE\n"
          ],
          "name": "stdout"
        },
        {
          "output_type": "display_data",
          "data": {
            "image/png": "[encoded data removed]",
            "text/plain": [
              "<Figure size 432x288 with 1 Axes>"
            ]
          },
          "metadata": {
            "tags": [],
            "needs_background": "light"
          }
        },
        {
          "output_type": "display_data",
          "data": {
            "image/png": "[encoded data removed]",
            "text/plain": [
              "<Figure size 432x288 with 1 Axes>"
            ]
          },
          "metadata": {
            "tags": [],
            "needs_background": "light"
          }
        }
      ]
    },
    {
      "cell_type": "markdown",
      "metadata": {
        "id": "BEI-n--6U2_1"
      },
      "source": [
        "## 2. Linear Regression\n",
        "\n",
        "Now that we've done some exploratory analysis, we can start modeling. It's good practice to start with simpler models such as linear regression, see what patterns we can pick up on from creating these models, and then move on to more complex models such as neural networks.\n"
      ]
    },
    {
      "cell_type": "markdown",
      "metadata": {
        "id": "bns4r4gXVSsm"
      },
      "source": [
        "### Review: What is linear regression?\n",
        "\n",
        "**Linear regression** models the relationship between an **independent variable** `x` and a **dependent variable** `y` as a line:\n",
        "\n",
        "$$y= mx + b$$\n",
        "\n"
      ]
    },
    {
      "cell_type": "markdown",
      "metadata": {
        "id": "D0scou1vV_cF"
      },
      "source": [
        "### Fitting a linear regression\n",
        "\n",
        "Now that we have some idea of what a linear regression is, let's create one! We'll need to:\n",
        "\n",
        "1. Prepare our data and perform a train-test split\n",
        "2. Create and train our linear regression model\n",
        "3. Make predictions using our model\n",
        "4. Evaluate our model"
      ]
    },
    {
      "cell_type": "markdown",
      "metadata": {
        "id": "4VjvJU4OhCQh"
      },
      "source": [
        "First, we need to separate `X_raw` (our input: all the columns with today's data) from `y_raw` (our output: the number of positives tomorrow.) Create the data frames below using `data`:"
      ]
    },
    {
      "cell_type": "code",
      "metadata": {
        "id": "e3kMPvY9g_cp"
      },
      "source": [
        "X_raw = data.drop(['tomorrow_new_pos'],axis=1)\n",
        "\n",
        "y_raw = data[[\"tomorrow_new_pos\"]]"
      ],
      "execution_count": 8,
      "outputs": []
    },
    {
      "cell_type": "markdown",
      "metadata": {
        "id": "r68G4JfpiWXx"
      },
      "source": [
        "Now, let's handle a few data formatting issues: we'll convert the State column to one-hot-encoded columns and add a new day_of_year column."
      ]
    },
    {
      "cell_type": "code",
      "metadata": {
        "id": "G0OA1u3cXHcp",
        "colab": {
          "base_uri": "https://localhost:8080/",
          "height": 222
        },
        "outputId": "e260564d-e846-4bad-883a-65cf511e51a1"
      },
      "source": [
        "#@title Run this to format data\n",
        "\n",
        "# let's one-hot-encode our states\n",
        "one_hot_columns = pd.get_dummies(X_raw.state, prefix=\"state\")\n",
        "\n",
        "# append one_hot_columns\n",
        "X = pd.concat([X_raw, one_hot_columns], axis=1)\n",
        "X.drop('state',axis=1,inplace=True)\n",
        "\n",
        "X[\"day_of_year\"] = (X.index - datetime(2020, 1, 1)).days\n",
        "\n",
        "X.reset_index(inplace = True, drop=True)\n",
        "y = y_raw.reset_index(drop = True)\n",
        "\n",
        "X.head(5)"
      ],
      "execution_count": 9,
      "outputs": [
        {
          "output_type": "execute_result",
          "data": {
            "text/html": [
              "<div>\n",
              "<style scoped>\n",
              "    .dataframe tbody tr th:only-of-type {\n",
              "        vertical-align: middle;\n",
              "    }\n",
              "\n",
              "    .dataframe tbody tr th {\n",
              "        vertical-align: top;\n",
              "    }\n",
              "\n",
              "    .dataframe thead th {\n",
              "        text-align: right;\n",
              "    }\n",
              "</style>\n",
              "<table border=\"1\" class=\"dataframe\">\n",
              "  <thead>\n",
              "    <tr style=\"text-align: right;\">\n",
              "      <th></th>\n",
              "      <th>positive</th>\n",
              "      <th>negative</th>\n",
              "      <th>total</th>\n",
              "      <th>hospitalizedincrease</th>\n",
              "      <th>negativeincrease</th>\n",
              "      <th>positiveincrease</th>\n",
              "      <th>state_AK</th>\n",
              "      <th>state_AL</th>\n",
              "      <th>state_AR</th>\n",
              "      <th>state_AS</th>\n",
              "      <th>state_AZ</th>\n",
              "      <th>state_CA</th>\n",
              "      <th>state_CO</th>\n",
              "      <th>state_CT</th>\n",
              "      <th>state_DC</th>\n",
              "      <th>state_DE</th>\n",
              "      <th>state_FL</th>\n",
              "      <th>state_GA</th>\n",
              "      <th>state_GU</th>\n",
              "      <th>state_HI</th>\n",
              "      <th>state_IA</th>\n",
              "      <th>state_ID</th>\n",
              "      <th>state_IL</th>\n",
              "      <th>state_IN</th>\n",
              "      <th>state_KS</th>\n",
              "      <th>state_KY</th>\n",
              "      <th>state_LA</th>\n",
              "      <th>state_MA</th>\n",
              "      <th>state_MD</th>\n",
              "      <th>state_ME</th>\n",
              "      <th>state_MI</th>\n",
              "      <th>state_MN</th>\n",
              "      <th>state_MO</th>\n",
              "      <th>state_MP</th>\n",
              "      <th>state_MS</th>\n",
              "      <th>state_MT</th>\n",
              "      <th>state_NC</th>\n",
              "      <th>state_ND</th>\n",
              "      <th>state_NE</th>\n",
              "      <th>state_NH</th>\n",
              "      <th>state_NJ</th>\n",
              "      <th>state_NM</th>\n",
              "      <th>state_NV</th>\n",
              "      <th>state_NY</th>\n",
              "      <th>state_OH</th>\n",
              "      <th>state_OK</th>\n",
              "      <th>state_OR</th>\n",
              "      <th>state_PA</th>\n",
              "      <th>state_PR</th>\n",
              "      <th>state_RI</th>\n",
              "      <th>state_SC</th>\n",
              "      <th>state_SD</th>\n",
              "      <th>state_TN</th>\n",
              "      <th>state_TX</th>\n",
              "      <th>state_UT</th>\n",
              "      <th>state_VA</th>\n",
              "      <th>state_VI</th>\n",
              "      <th>state_VT</th>\n",
              "      <th>state_WA</th>\n",
              "      <th>state_WI</th>\n",
              "      <th>state_WV</th>\n",
              "      <th>state_WY</th>\n",
              "      <th>day_of_year</th>\n",
              "    </tr>\n",
              "  </thead>\n",
              "  <tbody>\n",
              "    <tr>\n",
              "      <th>0</th>\n",
              "      <td>1.0</td>\n",
              "      <td>0.0</td>\n",
              "      <td>1.0</td>\n",
              "      <td>0.0</td>\n",
              "      <td>0.0</td>\n",
              "      <td>0.0</td>\n",
              "      <td>0</td>\n",
              "      <td>0</td>\n",
              "      <td>0</td>\n",
              "      <td>0</td>\n",
              "      <td>0</td>\n",
              "      <td>0</td>\n",
              "      <td>0</td>\n",
              "      <td>0</td>\n",
              "      <td>0</td>\n",
              "      <td>0</td>\n",
              "      <td>0</td>\n",
              "      <td>0</td>\n",
              "      <td>0</td>\n",
              "      <td>0</td>\n",
              "      <td>0</td>\n",
              "      <td>0</td>\n",
              "      <td>0</td>\n",
              "      <td>0</td>\n",
              "      <td>0</td>\n",
              "      <td>0</td>\n",
              "      <td>0</td>\n",
              "      <td>0</td>\n",
              "      <td>0</td>\n",
              "      <td>0</td>\n",
              "      <td>0</td>\n",
              "      <td>0</td>\n",
              "      <td>0</td>\n",
              "      <td>0</td>\n",
              "      <td>0</td>\n",
              "      <td>0</td>\n",
              "      <td>0</td>\n",
              "      <td>0</td>\n",
              "      <td>0</td>\n",
              "      <td>0</td>\n",
              "      <td>0</td>\n",
              "      <td>0</td>\n",
              "      <td>0</td>\n",
              "      <td>0</td>\n",
              "      <td>0</td>\n",
              "      <td>0</td>\n",
              "      <td>0</td>\n",
              "      <td>0</td>\n",
              "      <td>0</td>\n",
              "      <td>0</td>\n",
              "      <td>0</td>\n",
              "      <td>0</td>\n",
              "      <td>0</td>\n",
              "      <td>0</td>\n",
              "      <td>0</td>\n",
              "      <td>0</td>\n",
              "      <td>0</td>\n",
              "      <td>0</td>\n",
              "      <td>1</td>\n",
              "      <td>0</td>\n",
              "      <td>0</td>\n",
              "      <td>0</td>\n",
              "      <td>22</td>\n",
              "    </tr>\n",
              "    <tr>\n",
              "      <th>1</th>\n",
              "      <td>1.0</td>\n",
              "      <td>0.0</td>\n",
              "      <td>1.0</td>\n",
              "      <td>0.0</td>\n",
              "      <td>0.0</td>\n",
              "      <td>0.0</td>\n",
              "      <td>0</td>\n",
              "      <td>0</td>\n",
              "      <td>0</td>\n",
              "      <td>0</td>\n",
              "      <td>0</td>\n",
              "      <td>0</td>\n",
              "      <td>0</td>\n",
              "      <td>0</td>\n",
              "      <td>0</td>\n",
              "      <td>0</td>\n",
              "      <td>0</td>\n",
              "      <td>0</td>\n",
              "      <td>0</td>\n",
              "      <td>0</td>\n",
              "      <td>0</td>\n",
              "      <td>0</td>\n",
              "      <td>0</td>\n",
              "      <td>0</td>\n",
              "      <td>0</td>\n",
              "      <td>0</td>\n",
              "      <td>0</td>\n",
              "      <td>0</td>\n",
              "      <td>0</td>\n",
              "      <td>0</td>\n",
              "      <td>0</td>\n",
              "      <td>0</td>\n",
              "      <td>0</td>\n",
              "      <td>0</td>\n",
              "      <td>0</td>\n",
              "      <td>0</td>\n",
              "      <td>0</td>\n",
              "      <td>0</td>\n",
              "      <td>0</td>\n",
              "      <td>0</td>\n",
              "      <td>0</td>\n",
              "      <td>0</td>\n",
              "      <td>0</td>\n",
              "      <td>0</td>\n",
              "      <td>0</td>\n",
              "      <td>0</td>\n",
              "      <td>0</td>\n",
              "      <td>0</td>\n",
              "      <td>0</td>\n",
              "      <td>0</td>\n",
              "      <td>0</td>\n",
              "      <td>0</td>\n",
              "      <td>0</td>\n",
              "      <td>0</td>\n",
              "      <td>0</td>\n",
              "      <td>0</td>\n",
              "      <td>0</td>\n",
              "      <td>0</td>\n",
              "      <td>1</td>\n",
              "      <td>0</td>\n",
              "      <td>0</td>\n",
              "      <td>0</td>\n",
              "      <td>23</td>\n",
              "    </tr>\n",
              "    <tr>\n",
              "      <th>2</th>\n",
              "      <td>1.0</td>\n",
              "      <td>0.0</td>\n",
              "      <td>1.0</td>\n",
              "      <td>0.0</td>\n",
              "      <td>0.0</td>\n",
              "      <td>0.0</td>\n",
              "      <td>0</td>\n",
              "      <td>0</td>\n",
              "      <td>0</td>\n",
              "      <td>0</td>\n",
              "      <td>0</td>\n",
              "      <td>0</td>\n",
              "      <td>0</td>\n",
              "      <td>0</td>\n",
              "      <td>0</td>\n",
              "      <td>0</td>\n",
              "      <td>0</td>\n",
              "      <td>0</td>\n",
              "      <td>0</td>\n",
              "      <td>0</td>\n",
              "      <td>0</td>\n",
              "      <td>0</td>\n",
              "      <td>0</td>\n",
              "      <td>0</td>\n",
              "      <td>0</td>\n",
              "      <td>0</td>\n",
              "      <td>0</td>\n",
              "      <td>0</td>\n",
              "      <td>0</td>\n",
              "      <td>0</td>\n",
              "      <td>0</td>\n",
              "      <td>0</td>\n",
              "      <td>0</td>\n",
              "      <td>0</td>\n",
              "      <td>0</td>\n",
              "      <td>0</td>\n",
              "      <td>0</td>\n",
              "      <td>0</td>\n",
              "      <td>0</td>\n",
              "      <td>0</td>\n",
              "      <td>0</td>\n",
              "      <td>0</td>\n",
              "      <td>0</td>\n",
              "      <td>0</td>\n",
              "      <td>0</td>\n",
              "      <td>0</td>\n",
              "      <td>0</td>\n",
              "      <td>0</td>\n",
              "      <td>0</td>\n",
              "      <td>0</td>\n",
              "      <td>0</td>\n",
              "      <td>0</td>\n",
              "      <td>0</td>\n",
              "      <td>0</td>\n",
              "      <td>0</td>\n",
              "      <td>0</td>\n",
              "      <td>0</td>\n",
              "      <td>0</td>\n",
              "      <td>1</td>\n",
              "      <td>0</td>\n",
              "      <td>0</td>\n",
              "      <td>0</td>\n",
              "      <td>24</td>\n",
              "    </tr>\n",
              "    <tr>\n",
              "      <th>3</th>\n",
              "      <td>1.0</td>\n",
              "      <td>0.0</td>\n",
              "      <td>1.0</td>\n",
              "      <td>0.0</td>\n",
              "      <td>0.0</td>\n",
              "      <td>0.0</td>\n",
              "      <td>0</td>\n",
              "      <td>0</td>\n",
              "      <td>0</td>\n",
              "      <td>0</td>\n",
              "      <td>0</td>\n",
              "      <td>0</td>\n",
              "      <td>0</td>\n",
              "      <td>0</td>\n",
              "      <td>0</td>\n",
              "      <td>0</td>\n",
              "      <td>0</td>\n",
              "      <td>0</td>\n",
              "      <td>0</td>\n",
              "      <td>0</td>\n",
              "      <td>0</td>\n",
              "      <td>0</td>\n",
              "      <td>0</td>\n",
              "      <td>0</td>\n",
              "      <td>0</td>\n",
              "      <td>0</td>\n",
              "      <td>0</td>\n",
              "      <td>0</td>\n",
              "      <td>0</td>\n",
              "      <td>0</td>\n",
              "      <td>0</td>\n",
              "      <td>0</td>\n",
              "      <td>0</td>\n",
              "      <td>0</td>\n",
              "      <td>0</td>\n",
              "      <td>0</td>\n",
              "      <td>0</td>\n",
              "      <td>0</td>\n",
              "      <td>0</td>\n",
              "      <td>0</td>\n",
              "      <td>0</td>\n",
              "      <td>0</td>\n",
              "      <td>0</td>\n",
              "      <td>0</td>\n",
              "      <td>0</td>\n",
              "      <td>0</td>\n",
              "      <td>0</td>\n",
              "      <td>0</td>\n",
              "      <td>0</td>\n",
              "      <td>0</td>\n",
              "      <td>0</td>\n",
              "      <td>0</td>\n",
              "      <td>0</td>\n",
              "      <td>0</td>\n",
              "      <td>0</td>\n",
              "      <td>0</td>\n",
              "      <td>0</td>\n",
              "      <td>0</td>\n",
              "      <td>1</td>\n",
              "      <td>0</td>\n",
              "      <td>0</td>\n",
              "      <td>0</td>\n",
              "      <td>25</td>\n",
              "    </tr>\n",
              "    <tr>\n",
              "      <th>4</th>\n",
              "      <td>1.0</td>\n",
              "      <td>0.0</td>\n",
              "      <td>1.0</td>\n",
              "      <td>0.0</td>\n",
              "      <td>0.0</td>\n",
              "      <td>0.0</td>\n",
              "      <td>0</td>\n",
              "      <td>0</td>\n",
              "      <td>0</td>\n",
              "      <td>0</td>\n",
              "      <td>0</td>\n",
              "      <td>0</td>\n",
              "      <td>0</td>\n",
              "      <td>0</td>\n",
              "      <td>0</td>\n",
              "      <td>0</td>\n",
              "      <td>0</td>\n",
              "      <td>0</td>\n",
              "      <td>0</td>\n",
              "      <td>0</td>\n",
              "      <td>0</td>\n",
              "      <td>0</td>\n",
              "      <td>0</td>\n",
              "      <td>0</td>\n",
              "      <td>0</td>\n",
              "      <td>0</td>\n",
              "      <td>0</td>\n",
              "      <td>0</td>\n",
              "      <td>0</td>\n",
              "      <td>0</td>\n",
              "      <td>0</td>\n",
              "      <td>0</td>\n",
              "      <td>0</td>\n",
              "      <td>0</td>\n",
              "      <td>0</td>\n",
              "      <td>0</td>\n",
              "      <td>0</td>\n",
              "      <td>0</td>\n",
              "      <td>0</td>\n",
              "      <td>0</td>\n",
              "      <td>0</td>\n",
              "      <td>0</td>\n",
              "      <td>0</td>\n",
              "      <td>0</td>\n",
              "      <td>0</td>\n",
              "      <td>0</td>\n",
              "      <td>0</td>\n",
              "      <td>0</td>\n",
              "      <td>0</td>\n",
              "      <td>0</td>\n",
              "      <td>0</td>\n",
              "      <td>0</td>\n",
              "      <td>0</td>\n",
              "      <td>0</td>\n",
              "      <td>0</td>\n",
              "      <td>0</td>\n",
              "      <td>0</td>\n",
              "      <td>0</td>\n",
              "      <td>1</td>\n",
              "      <td>0</td>\n",
              "      <td>0</td>\n",
              "      <td>0</td>\n",
              "      <td>26</td>\n",
              "    </tr>\n",
              "  </tbody>\n",
              "</table>\n",
              "</div>"
            ],
            "text/plain": [
              "   positive  negative  total  hospitalizedincrease  negativeincrease  \\\n",
              "0       1.0       0.0    1.0                   0.0               0.0   \n",
              "1       1.0       0.0    1.0                   0.0               0.0   \n",
              "2       1.0       0.0    1.0                   0.0               0.0   \n",
              "3       1.0       0.0    1.0                   0.0               0.0   \n",
              "4       1.0       0.0    1.0                   0.0               0.0   \n",
              "\n",
              "   positiveincrease  state_AK  state_AL  state_AR  state_AS  state_AZ  \\\n",
              "0               0.0         0         0         0         0         0   \n",
              "1               0.0         0         0         0         0         0   \n",
              "2               0.0         0         0         0         0         0   \n",
              "3               0.0         0         0         0         0         0   \n",
              "4               0.0         0         0         0         0         0   \n",
              "\n",
              "   state_CA  state_CO  state_CT  state_DC  state_DE  state_FL  state_GA  \\\n",
              "0         0         0         0         0         0         0         0   \n",
              "1         0         0         0         0         0         0         0   \n",
              "2         0         0         0         0         0         0         0   \n",
              "3         0         0         0         0         0         0         0   \n",
              "4         0         0         0         0         0         0         0   \n",
              "\n",
              "   state_GU  state_HI  state_IA  state_ID  state_IL  state_IN  state_KS  \\\n",
              "0         0         0         0         0         0         0         0   \n",
              "1         0         0         0         0         0         0         0   \n",
              "2         0         0         0         0         0         0         0   \n",
              "3         0         0         0         0         0         0         0   \n",
              "4         0         0         0         0         0         0         0   \n",
              "\n",
              "   state_KY  state_LA  state_MA  state_MD  state_ME  state_MI  state_MN  \\\n",
              "0         0         0         0         0         0         0         0   \n",
              "1         0         0         0         0         0         0         0   \n",
              "2         0         0         0         0         0         0         0   \n",
              "3         0         0         0         0         0         0         0   \n",
              "4         0         0         0         0         0         0         0   \n",
              "\n",
              "   state_MO  state_MP  state_MS  state_MT  state_NC  state_ND  state_NE  \\\n",
              "0         0         0         0         0         0         0         0   \n",
              "1         0         0         0         0         0         0         0   \n",
              "2         0         0         0         0         0         0         0   \n",
              "3         0         0         0         0         0         0         0   \n",
              "4         0         0         0         0         0         0         0   \n",
              "\n",
              "   state_NH  state_NJ  state_NM  state_NV  state_NY  state_OH  state_OK  \\\n",
              "0         0         0         0         0         0         0         0   \n",
              "1         0         0         0         0         0         0         0   \n",
              "2         0         0         0         0         0         0         0   \n",
              "3         0         0         0         0         0         0         0   \n",
              "4         0         0         0         0         0         0         0   \n",
              "\n",
              "   state_OR  state_PA  state_PR  state_RI  state_SC  state_SD  state_TN  \\\n",
              "0         0         0         0         0         0         0         0   \n",
              "1         0         0         0         0         0         0         0   \n",
              "2         0         0         0         0         0         0         0   \n",
              "3         0         0         0         0         0         0         0   \n",
              "4         0         0         0         0         0         0         0   \n",
              "\n",
              "   state_TX  state_UT  state_VA  state_VI  state_VT  state_WA  state_WI  \\\n",
              "0         0         0         0         0         0         1         0   \n",
              "1         0         0         0         0         0         1         0   \n",
              "2         0         0         0         0         0         1         0   \n",
              "3         0         0         0         0         0         1         0   \n",
              "4         0         0         0         0         0         1         0   \n",
              "\n",
              "   state_WV  state_WY  day_of_year  \n",
              "0         0         0           22  \n",
              "1         0         0           23  \n",
              "2         0         0           24  \n",
              "3         0         0           25  \n",
              "4         0         0           26  "
            ]
          },
          "metadata": {
            "tags": []
          },
          "execution_count": 9
        }
      ]
    },
    {
      "cell_type": "markdown",
      "metadata": {
        "id": "-s6pvziLWw_y"
      },
      "source": [
        "#### 1. Perform a train-test split\n",
        "\n",
        "Before we can create our model, we have to split our data into training and test data. **Why?**\n",
        "\n",
        "Often, we split randomly. But today, we'll split by time: the first few months of our data will be the training data and the last few weeks will be testing data. **Question: Why split by time instead of randomly?**\n",
        "\n",
        "It's to make sure that our model has never learned any information about the testing data. If we split randomly, we could have days in the testing data which are the \"tomorrow\" of a day in the training data!\n",
        "\n"
      ]
    },
    {
      "cell_type": "markdown",
      "metadata": {
        "id": "SgdfCxhHPUQx"
      },
      "source": [
        "Let's use an 80%/20% train-test split. Calculate the number of rows to use in training data:"
      ]
    },
    {
      "cell_type": "code",
      "metadata": {
        "id": "WJAxlX5p1Vsu"
      },
      "source": [
        "X_train, X_test, y_train, y_test = train_test_split(X, y, test_size=0.2, shuffle=False)"
      ],
      "execution_count": 10,
      "outputs": []
    },
    {
      "cell_type": "code",
      "metadata": {
        "id": "OEV0sSXHz2Sk",
        "colab": {
          "base_uri": "https://localhost:8080/"
        },
        "outputId": "2af8201f-bd9a-4cee-ea71-319f692dfe0c"
      },
      "source": [
        "print(len(X_train))\n",
        "print(len(X_test))"
      ],
      "execution_count": 11,
      "outputs": [
        {
          "output_type": "stream",
          "text": [
            "2332\n",
            "583\n"
          ],
          "name": "stdout"
        }
      ]
    },
    {
      "cell_type": "markdown",
      "metadata": {
        "id": "DFsp5lEUa2Zx"
      },
      "source": [
        "#### 2. Create and train our linear regression model\n",
        "\n",
        "Now, let's create our linear regression model! We'll use the linear regression model from Scikit-learn.\n"
      ]
    },
    {
      "cell_type": "code",
      "metadata": {
        "id": "fvNdjnyHVAxl"
      },
      "source": [
        "linear = linear_model.LinearRegression()"
      ],
      "execution_count": 12,
      "outputs": []
    },
    {
      "cell_type": "markdown",
      "metadata": {
        "id": "0KvUG-tlENya"
      },
      "source": [
        "Next, let's train our linear regression model on our data."
      ]
    },
    {
      "cell_type": "code",
      "metadata": {
        "cellView": "both",
        "id": "ijls7t-nbgey",
        "colab": {
          "base_uri": "https://localhost:8080/"
        },
        "outputId": "bcff58d3-2183-4f34-aa47-8a464f5410f1"
      },
      "source": [
        "linear.fit(X_train,y_train)"
      ],
      "execution_count": 13,
      "outputs": [
        {
          "output_type": "execute_result",
          "data": {
            "text/plain": [
              "LinearRegression(copy_X=True, fit_intercept=True, n_jobs=None, normalize=False)"
            ]
          },
          "metadata": {
            "tags": []
          },
          "execution_count": 13
        }
      ]
    },
    {
      "cell_type": "markdown",
      "metadata": {
        "id": "ZkyUplK9vjgv"
      },
      "source": [
        "\n",
        "#### 3. Make predictions using our model\n",
        "\n",
        "Now, let's make some predictions on the test set!\n",
        "\n"
      ]
    },
    {
      "cell_type": "code",
      "metadata": {
        "id": "HkNejfktyKrE"
      },
      "source": [
        "y_pred = linear.predict(X_test)"
      ],
      "execution_count": 14,
      "outputs": []
    },
    {
      "cell_type": "markdown",
      "metadata": {
        "id": "ZlBQTqTy1DMI"
      },
      "source": [
        "Remember how we're testing our model: we're giving the model true information about each day in the test set, and asking it to predict the number of positives the next day. How does it do?"
      ]
    },
    {
      "cell_type": "code",
      "metadata": {
        "id": "Hpg8-FqN1Gxm",
        "colab": {
          "base_uri": "https://localhost:8080/",
          "height": 282
        },
        "outputId": "ed3b6c1a-ab28-4570-a2c3-cde081db47e8"
      },
      "source": [
        "#@title ### Type in a state to check out our model's predictions\n",
        "\n",
        "# get state\n",
        "state = \"ca\" #@param {type:\"string\"}\n",
        "\n",
        "def plot_true_and_pred(state, y_pred):\n",
        "  # get uppercase version\n",
        "  state=state.upper()\n",
        "\n",
        "  # check to see if entry is in the state\n",
        "  if state not in set(data[\"state\"]):\n",
        "      raise ValueError(\"Abbreviation isn't a state. Please try again\")\n",
        "  print(f\"You've chosen to see the data for the state of {state}\")\n",
        "\n",
        "  y_pred_series = pd.Series(y_pred.squeeze(), index = y_test.index)\n",
        "\n",
        "  X_train_state = X_train[X_train[\"state_\"+state] == 1]\n",
        "  X_test_state = X_test[X_test[\"state_\"+state] == 1]\n",
        "\n",
        "  early_true = y_train.loc[X_train_state.index]\n",
        "  late_true = y_test.loc[X_test_state.index]\n",
        "  late_pred = y_pred_series.loc[X_test_state.index]\n",
        "\n",
        "  plt.plot(X_train_state.day_of_year, early_true)\n",
        "  plt.plot(X_test_state.day_of_year, late_true)\n",
        "  plt.plot(X_test_state.day_of_year, late_pred)\n",
        "  plt.legend([\"True (Training)\", \"True (Testing)\", \"Predicted (Testing)\"])\n",
        "  plt.show()\n",
        "\n",
        "plot_true_and_pred(state, y_pred)\n"
      ],
      "execution_count": 15,
      "outputs": [
        {
          "output_type": "stream",
          "text": [
            "You've chosen to see the data for the state of CA\n"
          ],
          "name": "stdout"
        },
        {
          "output_type": "display_data",
          "data": {
            "image/png": "[encoded data removed]",
            "text/plain": [
              "<Figure size 432x288 with 1 Axes>"
            ]
          },
          "metadata": {
            "tags": [],
            "needs_background": "light"
          }
        }
      ]
    },
    {
      "cell_type": "markdown",
      "metadata": {
        "id": "GqF3cSkjQQ3Q"
      },
      "source": [
        "**Question**: How well is our model doing in different states? Does it tend to overestimate or underestimate? Do you notice other patterns?\n",
        "\n",
        "Overall, our model seems to do well at predicting the number of cases *the next day*!"
      ]
    },
    {
      "cell_type": "markdown",
      "metadata": {
        "id": "FuAgQWWE9qib"
      },
      "source": [
        "## 3. Neural Networks\n",
        "\n",
        "We're doing pretty well with simple linear regression methods - but can we do even better?\n",
        "\n",
        "Let's see if we can improve our MSE with a more complex model: Neural Networks.\n",
        "\n",
        "![Neural Network](https://upload.wikimedia.org/wikipedia/commons/e/e4/Artificial_neural_network.svg)\n"
      ]
    },
    {
      "cell_type": "markdown",
      "metadata": {
        "id": "lFK9L-ZIdCo7"
      },
      "source": [
        "\n",
        "Recall that a neural network consists of layers of interconnected \"neurons\", which learn to identify patterns in the input to make a prediction. For many tasks, like computer vision or speech recognition, neural networks far exceed other types of machine learning algorithms!"
      ]
    },
    {
      "cell_type": "markdown",
      "metadata": {
        "id": "5_2v8zcvfWPf"
      },
      "source": [
        "### Fitting a neural network\n",
        "\n",
        "We will use `MLPRegressor`, which is a simple neural network model from Scikit-learn. We will experiment with the **number of neurons** and the **number of hidden layers** to improve the performance of our model!\n",
        "\n",
        "**Example 1:**\n",
        "\n",
        "If we want to create a neural network with 1 hidden layer and 4 neurons, we would say:\n",
        "\n",
        "`nnet = MLPRegressor(hidden_layer_sizes=(4)) `\n",
        "\n",
        "**Example 2:**\n",
        "\n",
        "If we want to create a neural network with 2 hidden layers and 3 neurons in each layer:\n",
        "\n",
        "`nnet = MLPRegressor(hidden_layer_sizes=(3, 3)) `"
      ]
    },
    {
      "cell_type": "markdown",
      "metadata": {
        "id": "6Z5Mw0PKhRXV"
      },
      "source": [
        "\n",
        "\n",
        "\n",
        "\n"
      ]
    },
    {
      "cell_type": "code",
      "metadata": {
        "id": "m66f9Ix4mDJY",
        "colab": {
          "base_uri": "https://localhost:8080/",
          "height": 300
        },
        "outputId": "fb5ecdaa-254b-49cc-8b4f-dc275f337fe7"
      },
      "source": [
        "from sklearn.neural_network import MLPRegressor\n",
        "\n",
        "# Creates the neural net\n",
        "nnet = MLPRegressor(hidden_layer_sizes=(3,3),\n",
        "                    activation=\"relu\",\n",
        "                    max_iter= 100000)\n",
        "\n",
        "nnet.fit(X_train,y_train.values.ravel())\n",
        "\n",
        "nnet_preds = nnet.predict(X_test)\n",
        "\n",
        "error = mean_squared_error(y_test,nnet_preds)\n",
        "print(error)\n",
        "\n",
        "plot_true_and_pred(\"WA\",nnet_preds)"
      ],
      "execution_count": 24,
      "outputs": [
        {
          "output_type": "stream",
          "text": [
            "332679.45758942113\n",
            "You've chosen to see the data for the state of WA\n"
          ],
          "name": "stdout"
        },
        {
          "output_type": "display_data",
          "data": {
            "image/png": "[encoded data removed]",
            "text/plain": [
              "<Figure size 432x288 with 1 Axes>"
            ]
          },
          "metadata": {
            "tags": [],
            "needs_background": "light"
          }
        }
      ]
    }
  ]
}
